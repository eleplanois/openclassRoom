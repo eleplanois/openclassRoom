{
 "cells": [
  {
   "cell_type": "code",
   "execution_count": 28,
   "id": "competitive-convergence",
   "metadata": {},
   "outputs": [],
   "source": [
    "import pandas as pd\n",
    "import numpy as np\n",
    "import matplotlib.pyplot as plt\n",
    "import seaborn as sns\n",
    "\n",
    "pd.set_option('display.max_rows', None )\n",
    "pd.set_option('display.max_columns', None )\n",
    "#pd.set_option('display.float_format', lambda x: '%.2f' % x)"
   ]
  },
  {
   "cell_type": "code",
   "execution_count": 29,
   "id": "functional-proposal",
   "metadata": {},
   "outputs": [
    {
     "data": {
      "text/html": [
       "<div>\n",
       "<style scoped>\n",
       "    .dataframe tbody tr th:only-of-type {\n",
       "        vertical-align: middle;\n",
       "    }\n",
       "\n",
       "    .dataframe tbody tr th {\n",
       "        vertical-align: top;\n",
       "    }\n",
       "\n",
       "    .dataframe thead th {\n",
       "        text-align: right;\n",
       "    }\n",
       "</style>\n",
       "<table border=\"1\" class=\"dataframe\">\n",
       "  <thead>\n",
       "    <tr style=\"text-align: right;\">\n",
       "      <th></th>\n",
       "      <th>OSEBuildingID</th>\n",
       "      <th>ENERGYSTARScore_mean</th>\n",
       "      <th>SiteEnergyUseWN(kBtu)_mean</th>\n",
       "      <th>GHGEmissions(MetricTonsCO2e)_mean</th>\n",
       "      <th>Neighborhood_2015</th>\n",
       "      <th>age</th>\n",
       "      <th>NumberofFloors_mean</th>\n",
       "      <th>PrimaryPropertyType_2015</th>\n",
       "      <th>LargestPropertyUseTypeGFA_mean</th>\n",
       "      <th>PropertyGFAParking_mean</th>\n",
       "      <th>util_steam</th>\n",
       "      <th>util_elec</th>\n",
       "      <th>util_gaz</th>\n",
       "    </tr>\n",
       "  </thead>\n",
       "  <tbody>\n",
       "    <tr>\n",
       "      <th>0</th>\n",
       "      <td>1</td>\n",
       "      <td>62.5</td>\n",
       "      <td>7277224.50</td>\n",
       "      <td>249.705</td>\n",
       "      <td>DOWNTOWN</td>\n",
       "      <td>88</td>\n",
       "      <td>12.0</td>\n",
       "      <td>Hotel</td>\n",
       "      <td>88434.0</td>\n",
       "      <td>0.0</td>\n",
       "      <td>0.153106</td>\n",
       "      <td>0.326086</td>\n",
       "      <td>0.520808</td>\n",
       "    </tr>\n",
       "    <tr>\n",
       "      <th>1</th>\n",
       "      <td>2</td>\n",
       "      <td>56.0</td>\n",
       "      <td>8715133.50</td>\n",
       "      <td>279.685</td>\n",
       "      <td>DOWNTOWN</td>\n",
       "      <td>19</td>\n",
       "      <td>11.0</td>\n",
       "      <td>Hotel</td>\n",
       "      <td>83880.0</td>\n",
       "      <td>15064.0</td>\n",
       "      <td>0.153106</td>\n",
       "      <td>0.326086</td>\n",
       "      <td>0.520808</td>\n",
       "    </tr>\n",
       "    <tr>\n",
       "      <th>2</th>\n",
       "      <td>3</td>\n",
       "      <td>30.5</td>\n",
       "      <td>74721692.00</td>\n",
       "      <td>2075.380</td>\n",
       "      <td>DOWNTOWN</td>\n",
       "      <td>46</td>\n",
       "      <td>41.0</td>\n",
       "      <td>Hotel</td>\n",
       "      <td>756868.0</td>\n",
       "      <td>98359.0</td>\n",
       "      <td>0.153106</td>\n",
       "      <td>0.326086</td>\n",
       "      <td>0.520808</td>\n",
       "    </tr>\n",
       "    <tr>\n",
       "      <th>3</th>\n",
       "      <td>5</td>\n",
       "      <td>28.5</td>\n",
       "      <td>17655122.25</td>\n",
       "      <td>1111.385</td>\n",
       "      <td>DOWNTOWN</td>\n",
       "      <td>89</td>\n",
       "      <td>10.0</td>\n",
       "      <td>Hotel</td>\n",
       "      <td>61320.0</td>\n",
       "      <td>0.0</td>\n",
       "      <td>0.153106</td>\n",
       "      <td>0.326086</td>\n",
       "      <td>0.520808</td>\n",
       "    </tr>\n",
       "    <tr>\n",
       "      <th>4</th>\n",
       "      <td>8</td>\n",
       "      <td>71.0</td>\n",
       "      <td>14867373.00</td>\n",
       "      <td>506.355</td>\n",
       "      <td>DOWNTOWN</td>\n",
       "      <td>35</td>\n",
       "      <td>18.0</td>\n",
       "      <td>Hotel</td>\n",
       "      <td>123445.0</td>\n",
       "      <td>37230.0</td>\n",
       "      <td>0.153106</td>\n",
       "      <td>0.326086</td>\n",
       "      <td>0.520808</td>\n",
       "    </tr>\n",
       "  </tbody>\n",
       "</table>\n",
       "</div>"
      ],
      "text/plain": [
       "   OSEBuildingID  ENERGYSTARScore_mean  SiteEnergyUseWN(kBtu)_mean  \\\n",
       "0              1                  62.5                  7277224.50   \n",
       "1              2                  56.0                  8715133.50   \n",
       "2              3                  30.5                 74721692.00   \n",
       "3              5                  28.5                 17655122.25   \n",
       "4              8                  71.0                 14867373.00   \n",
       "\n",
       "   GHGEmissions(MetricTonsCO2e)_mean Neighborhood_2015  age  \\\n",
       "0                            249.705          DOWNTOWN   88   \n",
       "1                            279.685          DOWNTOWN   19   \n",
       "2                           2075.380          DOWNTOWN   46   \n",
       "3                           1111.385          DOWNTOWN   89   \n",
       "4                            506.355          DOWNTOWN   35   \n",
       "\n",
       "   NumberofFloors_mean PrimaryPropertyType_2015  \\\n",
       "0                 12.0                    Hotel   \n",
       "1                 11.0                    Hotel   \n",
       "2                 41.0                    Hotel   \n",
       "3                 10.0                    Hotel   \n",
       "4                 18.0                    Hotel   \n",
       "\n",
       "   LargestPropertyUseTypeGFA_mean  PropertyGFAParking_mean  util_steam  \\\n",
       "0                         88434.0                      0.0    0.153106   \n",
       "1                         83880.0                  15064.0    0.153106   \n",
       "2                        756868.0                  98359.0    0.153106   \n",
       "3                         61320.0                      0.0    0.153106   \n",
       "4                        123445.0                  37230.0    0.153106   \n",
       "\n",
       "   util_elec  util_gaz  \n",
       "0   0.326086  0.520808  \n",
       "1   0.326086  0.520808  \n",
       "2   0.326086  0.520808  \n",
       "3   0.326086  0.520808  \n",
       "4   0.326086  0.520808  "
      ]
     },
     "execution_count": 29,
     "metadata": {},
     "output_type": "execute_result"
    }
   ],
   "source": [
    "data_Final = pd.read_csv('data_Final.csv')\n",
    "data_Final.head()"
   ]
  },
  {
   "cell_type": "code",
   "execution_count": 30,
   "id": "skilled-toner",
   "metadata": {},
   "outputs": [
    {
     "name": "stdout",
     "output_type": "stream",
     "text": [
      "(1630, 13)\n",
      "(1116, 13)\n"
     ]
    }
   ],
   "source": [
    "# on supprime les EnergyStarScore manquant\n",
    "print(data_Final.shape)\n",
    "data_Final.dropna(inplace = True)\n",
    "print(data_Final.shape)"
   ]
  },
  {
   "cell_type": "markdown",
   "id": "efficient-danger",
   "metadata": {},
   "source": [
    "## preprocessing avec normalisation"
   ]
  },
  {
   "cell_type": "code",
   "execution_count": 31,
   "id": "seven-paris",
   "metadata": {},
   "outputs": [],
   "source": [
    "colonne_X = [ 'Neighborhood_2015', 'age', 'LargestPropertyUseTypeGFA_mean',\\\n",
    "             'PropertyGFAParking_mean', 'NumberofFloors_mean','PrimaryPropertyType_2015',\\\n",
    "            'util_elec','util_gaz','util_steam']\n",
    "data_X = data_Final[colonne_X]\n"
   ]
  },
  {
   "cell_type": "code",
   "execution_count": 32,
   "id": "prescription-paradise",
   "metadata": {},
   "outputs": [
    {
     "data": {
      "text/html": [
       "<div>\n",
       "<style scoped>\n",
       "    .dataframe tbody tr th:only-of-type {\n",
       "        vertical-align: middle;\n",
       "    }\n",
       "\n",
       "    .dataframe tbody tr th {\n",
       "        vertical-align: top;\n",
       "    }\n",
       "\n",
       "    .dataframe thead th {\n",
       "        text-align: right;\n",
       "    }\n",
       "</style>\n",
       "<table border=\"1\" class=\"dataframe\">\n",
       "  <thead>\n",
       "    <tr style=\"text-align: right;\">\n",
       "      <th></th>\n",
       "      <th>Neighborhood_2015</th>\n",
       "      <th>age</th>\n",
       "      <th>LargestPropertyUseTypeGFA_mean</th>\n",
       "      <th>PropertyGFAParking_mean</th>\n",
       "      <th>NumberofFloors_mean</th>\n",
       "      <th>PrimaryPropertyType_2015</th>\n",
       "      <th>util_elec</th>\n",
       "      <th>util_gaz</th>\n",
       "      <th>util_steam</th>\n",
       "    </tr>\n",
       "  </thead>\n",
       "  <tbody>\n",
       "    <tr>\n",
       "      <th>0</th>\n",
       "      <td>DOWNTOWN</td>\n",
       "      <td>88</td>\n",
       "      <td>88434.0</td>\n",
       "      <td>0.0</td>\n",
       "      <td>12.0</td>\n",
       "      <td>Hotel</td>\n",
       "      <td>0.326086</td>\n",
       "      <td>0.520808</td>\n",
       "      <td>0.153106</td>\n",
       "    </tr>\n",
       "    <tr>\n",
       "      <th>1</th>\n",
       "      <td>DOWNTOWN</td>\n",
       "      <td>19</td>\n",
       "      <td>83880.0</td>\n",
       "      <td>15064.0</td>\n",
       "      <td>11.0</td>\n",
       "      <td>Hotel</td>\n",
       "      <td>0.326086</td>\n",
       "      <td>0.520808</td>\n",
       "      <td>0.153106</td>\n",
       "    </tr>\n",
       "    <tr>\n",
       "      <th>2</th>\n",
       "      <td>DOWNTOWN</td>\n",
       "      <td>46</td>\n",
       "      <td>756868.0</td>\n",
       "      <td>98359.0</td>\n",
       "      <td>41.0</td>\n",
       "      <td>Hotel</td>\n",
       "      <td>0.326086</td>\n",
       "      <td>0.520808</td>\n",
       "      <td>0.153106</td>\n",
       "    </tr>\n",
       "    <tr>\n",
       "      <th>3</th>\n",
       "      <td>DOWNTOWN</td>\n",
       "      <td>89</td>\n",
       "      <td>61320.0</td>\n",
       "      <td>0.0</td>\n",
       "      <td>10.0</td>\n",
       "      <td>Hotel</td>\n",
       "      <td>0.326086</td>\n",
       "      <td>0.520808</td>\n",
       "      <td>0.153106</td>\n",
       "    </tr>\n",
       "    <tr>\n",
       "      <th>4</th>\n",
       "      <td>DOWNTOWN</td>\n",
       "      <td>35</td>\n",
       "      <td>123445.0</td>\n",
       "      <td>37230.0</td>\n",
       "      <td>18.0</td>\n",
       "      <td>Hotel</td>\n",
       "      <td>0.326086</td>\n",
       "      <td>0.520808</td>\n",
       "      <td>0.153106</td>\n",
       "    </tr>\n",
       "  </tbody>\n",
       "</table>\n",
       "</div>"
      ],
      "text/plain": [
       "  Neighborhood_2015  age  LargestPropertyUseTypeGFA_mean  \\\n",
       "0          DOWNTOWN   88                         88434.0   \n",
       "1          DOWNTOWN   19                         83880.0   \n",
       "2          DOWNTOWN   46                        756868.0   \n",
       "3          DOWNTOWN   89                         61320.0   \n",
       "4          DOWNTOWN   35                        123445.0   \n",
       "\n",
       "   PropertyGFAParking_mean  NumberofFloors_mean PrimaryPropertyType_2015  \\\n",
       "0                      0.0                 12.0                    Hotel   \n",
       "1                  15064.0                 11.0                    Hotel   \n",
       "2                  98359.0                 41.0                    Hotel   \n",
       "3                      0.0                 10.0                    Hotel   \n",
       "4                  37230.0                 18.0                    Hotel   \n",
       "\n",
       "   util_elec  util_gaz  util_steam  \n",
       "0   0.326086  0.520808    0.153106  \n",
       "1   0.326086  0.520808    0.153106  \n",
       "2   0.326086  0.520808    0.153106  \n",
       "3   0.326086  0.520808    0.153106  \n",
       "4   0.326086  0.520808    0.153106  "
      ]
     },
     "execution_count": 32,
     "metadata": {},
     "output_type": "execute_result"
    }
   ],
   "source": [
    "data_X.head()"
   ]
  },
  {
   "cell_type": "code",
   "execution_count": 33,
   "id": "sustained-handle",
   "metadata": {},
   "outputs": [],
   "source": [
    "def encodage(df):\n",
    "    df = pd.get_dummies(df,columns=['Neighborhood_2015','PrimaryPropertyType_2015'])\n",
    "    return df\n"
   ]
  },
  {
   "cell_type": "code",
   "execution_count": 34,
   "id": "increased-permit",
   "metadata": {},
   "outputs": [],
   "source": [
    "def imputation(df):\n",
    "    return df.dropna(axis=0)"
   ]
  },
  {
   "cell_type": "code",
   "execution_count": 35,
   "id": "statutory-quantum",
   "metadata": {},
   "outputs": [],
   "source": [
    "def preprocessing(df):\n",
    "\n",
    "    df['Log_NumberofFloors_mean']= np.log(df['NumberofFloors_mean']+1)\n",
    "    df.drop(columns='NumberofFloors_mean', inplace=True)\n",
    "\n",
    "    df['Log_LargestPropertyUseTypeGFA']= np.log(df['LargestPropertyUseTypeGFA_mean']+1)\n",
    "    df.drop(columns='LargestPropertyUseTypeGFA_mean', inplace=True)\n",
    "\n",
    "    df['Log_PropertyGFAParking_mean']= np.log(df['PropertyGFAParking_mean']+1)\n",
    "    df.drop(columns='PropertyGFAParking_mean', inplace=True)\n",
    "    \n",
    "    return df"
   ]
  },
  {
   "cell_type": "code",
   "execution_count": 36,
   "id": "fluid-evening",
   "metadata": {},
   "outputs": [
    {
     "name": "stdout",
     "output_type": "stream",
     "text": [
      "(1116, 9)\n",
      "(1116, 39)\n"
     ]
    }
   ],
   "source": [
    "print(data_X.shape)\n",
    "data_X = encodage(data_X)\n",
    "data_X = imputation(data_X)\n",
    "data_X = preprocessing(data_X)\n",
    "print(data_X.shape)\n",
    "    "
   ]
  },
  {
   "cell_type": "code",
   "execution_count": 37,
   "id": "devoted-acrylic",
   "metadata": {},
   "outputs": [],
   "source": [
    "data_y = pd.DataFrame(np.log1p(data_Final['SiteEnergyUseWN(kBtu)_mean']))"
   ]
  },
  {
   "cell_type": "markdown",
   "id": "supreme-behavior",
   "metadata": {},
   "source": [
    "# imputation consommation energie pour test regression EnergyScore"
   ]
  },
  {
   "cell_type": "code",
   "execution_count": 38,
   "id": "disturbed-average",
   "metadata": {},
   "outputs": [],
   "source": [
    "from xgboost import XGBRegressor\n",
    "\n",
    "xgbr = XGBRegressor(subsample = 0.7, reg_lambda = 1.1, gamma = 0.5, \\\n",
    "                    n_estimators = 150, max_depth = 4, min_child_weight = 3,\\\n",
    "                    learning_rate = 0.1,  colsample_bytree = 0.8)\n",
    "\n",
    "xgbr.fit(data_X, data_y)\n",
    "\n",
    "data_X['Consommation_predit'] = xgbr.predict(data_X)"
   ]
  },
  {
   "cell_type": "code",
   "execution_count": 39,
   "id": "residential-johns",
   "metadata": {},
   "outputs": [
    {
     "data": {
      "text/html": [
       "<div>\n",
       "<style scoped>\n",
       "    .dataframe tbody tr th:only-of-type {\n",
       "        vertical-align: middle;\n",
       "    }\n",
       "\n",
       "    .dataframe tbody tr th {\n",
       "        vertical-align: top;\n",
       "    }\n",
       "\n",
       "    .dataframe thead th {\n",
       "        text-align: right;\n",
       "    }\n",
       "</style>\n",
       "<table border=\"1\" class=\"dataframe\">\n",
       "  <thead>\n",
       "    <tr style=\"text-align: right;\">\n",
       "      <th></th>\n",
       "      <th>age</th>\n",
       "      <th>util_elec</th>\n",
       "      <th>util_gaz</th>\n",
       "      <th>util_steam</th>\n",
       "      <th>Neighborhood_2015_BALLARD</th>\n",
       "      <th>Neighborhood_2015_CENTRAL</th>\n",
       "      <th>Neighborhood_2015_DELRIDGE</th>\n",
       "      <th>Neighborhood_2015_DOWNTOWN</th>\n",
       "      <th>Neighborhood_2015_EAST</th>\n",
       "      <th>Neighborhood_2015_GREATER DUWAMISH</th>\n",
       "      <th>Neighborhood_2015_LAKE UNION</th>\n",
       "      <th>Neighborhood_2015_MAGNOLIA / QUEEN ANNE</th>\n",
       "      <th>Neighborhood_2015_NORTH</th>\n",
       "      <th>Neighborhood_2015_NORTHEAST</th>\n",
       "      <th>Neighborhood_2015_NORTHWEST</th>\n",
       "      <th>Neighborhood_2015_SOUTHEAST</th>\n",
       "      <th>Neighborhood_2015_SOUTHWEST</th>\n",
       "      <th>PrimaryPropertyType_2015_Distribution Center</th>\n",
       "      <th>PrimaryPropertyType_2015_Distribution Center\\n</th>\n",
       "      <th>PrimaryPropertyType_2015_Hospital</th>\n",
       "      <th>PrimaryPropertyType_2015_Hotel</th>\n",
       "      <th>PrimaryPropertyType_2015_K-12 School</th>\n",
       "      <th>PrimaryPropertyType_2015_Large Office</th>\n",
       "      <th>PrimaryPropertyType_2015_Medical Office</th>\n",
       "      <th>PrimaryPropertyType_2015_Mixed Use Property</th>\n",
       "      <th>PrimaryPropertyType_2015_Non-Refrigerated Warehouse</th>\n",
       "      <th>PrimaryPropertyType_2015_Other</th>\n",
       "      <th>PrimaryPropertyType_2015_Refrigerated Warehouse</th>\n",
       "      <th>PrimaryPropertyType_2015_Residence Hall/Dormitory</th>\n",
       "      <th>PrimaryPropertyType_2015_Retail Store</th>\n",
       "      <th>PrimaryPropertyType_2015_SPS-District K-12</th>\n",
       "      <th>PrimaryPropertyType_2015_Self-Storage Facility\\n</th>\n",
       "      <th>PrimaryPropertyType_2015_Senior Care Community</th>\n",
       "      <th>PrimaryPropertyType_2015_Small- and Mid-Sized Office</th>\n",
       "      <th>PrimaryPropertyType_2015_Supermarket/Grocery Store</th>\n",
       "      <th>PrimaryPropertyType_2015_Worship Facility</th>\n",
       "      <th>Log_NumberofFloors_mean</th>\n",
       "      <th>Log_LargestPropertyUseTypeGFA</th>\n",
       "      <th>Log_PropertyGFAParking_mean</th>\n",
       "      <th>Consommation_predit</th>\n",
       "    </tr>\n",
       "  </thead>\n",
       "  <tbody>\n",
       "    <tr>\n",
       "      <th>0</th>\n",
       "      <td>88</td>\n",
       "      <td>0.326086</td>\n",
       "      <td>0.520808</td>\n",
       "      <td>0.153106</td>\n",
       "      <td>0</td>\n",
       "      <td>0</td>\n",
       "      <td>0</td>\n",
       "      <td>1</td>\n",
       "      <td>0</td>\n",
       "      <td>0</td>\n",
       "      <td>0</td>\n",
       "      <td>0</td>\n",
       "      <td>0</td>\n",
       "      <td>0</td>\n",
       "      <td>0</td>\n",
       "      <td>0</td>\n",
       "      <td>0</td>\n",
       "      <td>0</td>\n",
       "      <td>0</td>\n",
       "      <td>0</td>\n",
       "      <td>1</td>\n",
       "      <td>0</td>\n",
       "      <td>0</td>\n",
       "      <td>0</td>\n",
       "      <td>0</td>\n",
       "      <td>0</td>\n",
       "      <td>0</td>\n",
       "      <td>0</td>\n",
       "      <td>0</td>\n",
       "      <td>0</td>\n",
       "      <td>0</td>\n",
       "      <td>0</td>\n",
       "      <td>0</td>\n",
       "      <td>0</td>\n",
       "      <td>0</td>\n",
       "      <td>0</td>\n",
       "      <td>2.564949</td>\n",
       "      <td>11.390023</td>\n",
       "      <td>0.000000</td>\n",
       "      <td>15.971027</td>\n",
       "    </tr>\n",
       "    <tr>\n",
       "      <th>1</th>\n",
       "      <td>19</td>\n",
       "      <td>0.326086</td>\n",
       "      <td>0.520808</td>\n",
       "      <td>0.153106</td>\n",
       "      <td>0</td>\n",
       "      <td>0</td>\n",
       "      <td>0</td>\n",
       "      <td>1</td>\n",
       "      <td>0</td>\n",
       "      <td>0</td>\n",
       "      <td>0</td>\n",
       "      <td>0</td>\n",
       "      <td>0</td>\n",
       "      <td>0</td>\n",
       "      <td>0</td>\n",
       "      <td>0</td>\n",
       "      <td>0</td>\n",
       "      <td>0</td>\n",
       "      <td>0</td>\n",
       "      <td>0</td>\n",
       "      <td>1</td>\n",
       "      <td>0</td>\n",
       "      <td>0</td>\n",
       "      <td>0</td>\n",
       "      <td>0</td>\n",
       "      <td>0</td>\n",
       "      <td>0</td>\n",
       "      <td>0</td>\n",
       "      <td>0</td>\n",
       "      <td>0</td>\n",
       "      <td>0</td>\n",
       "      <td>0</td>\n",
       "      <td>0</td>\n",
       "      <td>0</td>\n",
       "      <td>0</td>\n",
       "      <td>0</td>\n",
       "      <td>2.484907</td>\n",
       "      <td>11.337154</td>\n",
       "      <td>9.620129</td>\n",
       "      <td>15.864732</td>\n",
       "    </tr>\n",
       "    <tr>\n",
       "      <th>2</th>\n",
       "      <td>46</td>\n",
       "      <td>0.326086</td>\n",
       "      <td>0.520808</td>\n",
       "      <td>0.153106</td>\n",
       "      <td>0</td>\n",
       "      <td>0</td>\n",
       "      <td>0</td>\n",
       "      <td>1</td>\n",
       "      <td>0</td>\n",
       "      <td>0</td>\n",
       "      <td>0</td>\n",
       "      <td>0</td>\n",
       "      <td>0</td>\n",
       "      <td>0</td>\n",
       "      <td>0</td>\n",
       "      <td>0</td>\n",
       "      <td>0</td>\n",
       "      <td>0</td>\n",
       "      <td>0</td>\n",
       "      <td>0</td>\n",
       "      <td>1</td>\n",
       "      <td>0</td>\n",
       "      <td>0</td>\n",
       "      <td>0</td>\n",
       "      <td>0</td>\n",
       "      <td>0</td>\n",
       "      <td>0</td>\n",
       "      <td>0</td>\n",
       "      <td>0</td>\n",
       "      <td>0</td>\n",
       "      <td>0</td>\n",
       "      <td>0</td>\n",
       "      <td>0</td>\n",
       "      <td>0</td>\n",
       "      <td>0</td>\n",
       "      <td>0</td>\n",
       "      <td>3.737670</td>\n",
       "      <td>13.536945</td>\n",
       "      <td>11.496389</td>\n",
       "      <td>18.109060</td>\n",
       "    </tr>\n",
       "    <tr>\n",
       "      <th>3</th>\n",
       "      <td>89</td>\n",
       "      <td>0.326086</td>\n",
       "      <td>0.520808</td>\n",
       "      <td>0.153106</td>\n",
       "      <td>0</td>\n",
       "      <td>0</td>\n",
       "      <td>0</td>\n",
       "      <td>1</td>\n",
       "      <td>0</td>\n",
       "      <td>0</td>\n",
       "      <td>0</td>\n",
       "      <td>0</td>\n",
       "      <td>0</td>\n",
       "      <td>0</td>\n",
       "      <td>0</td>\n",
       "      <td>0</td>\n",
       "      <td>0</td>\n",
       "      <td>0</td>\n",
       "      <td>0</td>\n",
       "      <td>0</td>\n",
       "      <td>1</td>\n",
       "      <td>0</td>\n",
       "      <td>0</td>\n",
       "      <td>0</td>\n",
       "      <td>0</td>\n",
       "      <td>0</td>\n",
       "      <td>0</td>\n",
       "      <td>0</td>\n",
       "      <td>0</td>\n",
       "      <td>0</td>\n",
       "      <td>0</td>\n",
       "      <td>0</td>\n",
       "      <td>0</td>\n",
       "      <td>0</td>\n",
       "      <td>0</td>\n",
       "      <td>0</td>\n",
       "      <td>2.397895</td>\n",
       "      <td>11.023878</td>\n",
       "      <td>0.000000</td>\n",
       "      <td>15.896291</td>\n",
       "    </tr>\n",
       "    <tr>\n",
       "      <th>4</th>\n",
       "      <td>35</td>\n",
       "      <td>0.326086</td>\n",
       "      <td>0.520808</td>\n",
       "      <td>0.153106</td>\n",
       "      <td>0</td>\n",
       "      <td>0</td>\n",
       "      <td>0</td>\n",
       "      <td>1</td>\n",
       "      <td>0</td>\n",
       "      <td>0</td>\n",
       "      <td>0</td>\n",
       "      <td>0</td>\n",
       "      <td>0</td>\n",
       "      <td>0</td>\n",
       "      <td>0</td>\n",
       "      <td>0</td>\n",
       "      <td>0</td>\n",
       "      <td>0</td>\n",
       "      <td>0</td>\n",
       "      <td>0</td>\n",
       "      <td>1</td>\n",
       "      <td>0</td>\n",
       "      <td>0</td>\n",
       "      <td>0</td>\n",
       "      <td>0</td>\n",
       "      <td>0</td>\n",
       "      <td>0</td>\n",
       "      <td>0</td>\n",
       "      <td>0</td>\n",
       "      <td>0</td>\n",
       "      <td>0</td>\n",
       "      <td>0</td>\n",
       "      <td>0</td>\n",
       "      <td>0</td>\n",
       "      <td>0</td>\n",
       "      <td>0</td>\n",
       "      <td>2.944439</td>\n",
       "      <td>11.723559</td>\n",
       "      <td>10.524897</td>\n",
       "      <td>16.353548</td>\n",
       "    </tr>\n",
       "  </tbody>\n",
       "</table>\n",
       "</div>"
      ],
      "text/plain": [
       "   age  util_elec  util_gaz  util_steam  Neighborhood_2015_BALLARD  \\\n",
       "0   88   0.326086  0.520808    0.153106                          0   \n",
       "1   19   0.326086  0.520808    0.153106                          0   \n",
       "2   46   0.326086  0.520808    0.153106                          0   \n",
       "3   89   0.326086  0.520808    0.153106                          0   \n",
       "4   35   0.326086  0.520808    0.153106                          0   \n",
       "\n",
       "   Neighborhood_2015_CENTRAL  Neighborhood_2015_DELRIDGE  \\\n",
       "0                          0                           0   \n",
       "1                          0                           0   \n",
       "2                          0                           0   \n",
       "3                          0                           0   \n",
       "4                          0                           0   \n",
       "\n",
       "   Neighborhood_2015_DOWNTOWN  Neighborhood_2015_EAST  \\\n",
       "0                           1                       0   \n",
       "1                           1                       0   \n",
       "2                           1                       0   \n",
       "3                           1                       0   \n",
       "4                           1                       0   \n",
       "\n",
       "   Neighborhood_2015_GREATER DUWAMISH  Neighborhood_2015_LAKE UNION  \\\n",
       "0                                   0                             0   \n",
       "1                                   0                             0   \n",
       "2                                   0                             0   \n",
       "3                                   0                             0   \n",
       "4                                   0                             0   \n",
       "\n",
       "   Neighborhood_2015_MAGNOLIA / QUEEN ANNE  Neighborhood_2015_NORTH  \\\n",
       "0                                        0                        0   \n",
       "1                                        0                        0   \n",
       "2                                        0                        0   \n",
       "3                                        0                        0   \n",
       "4                                        0                        0   \n",
       "\n",
       "   Neighborhood_2015_NORTHEAST  Neighborhood_2015_NORTHWEST  \\\n",
       "0                            0                            0   \n",
       "1                            0                            0   \n",
       "2                            0                            0   \n",
       "3                            0                            0   \n",
       "4                            0                            0   \n",
       "\n",
       "   Neighborhood_2015_SOUTHEAST  Neighborhood_2015_SOUTHWEST  \\\n",
       "0                            0                            0   \n",
       "1                            0                            0   \n",
       "2                            0                            0   \n",
       "3                            0                            0   \n",
       "4                            0                            0   \n",
       "\n",
       "   PrimaryPropertyType_2015_Distribution Center  \\\n",
       "0                                             0   \n",
       "1                                             0   \n",
       "2                                             0   \n",
       "3                                             0   \n",
       "4                                             0   \n",
       "\n",
       "   PrimaryPropertyType_2015_Distribution Center\\n  \\\n",
       "0                                               0   \n",
       "1                                               0   \n",
       "2                                               0   \n",
       "3                                               0   \n",
       "4                                               0   \n",
       "\n",
       "   PrimaryPropertyType_2015_Hospital  PrimaryPropertyType_2015_Hotel  \\\n",
       "0                                  0                               1   \n",
       "1                                  0                               1   \n",
       "2                                  0                               1   \n",
       "3                                  0                               1   \n",
       "4                                  0                               1   \n",
       "\n",
       "   PrimaryPropertyType_2015_K-12 School  \\\n",
       "0                                     0   \n",
       "1                                     0   \n",
       "2                                     0   \n",
       "3                                     0   \n",
       "4                                     0   \n",
       "\n",
       "   PrimaryPropertyType_2015_Large Office  \\\n",
       "0                                      0   \n",
       "1                                      0   \n",
       "2                                      0   \n",
       "3                                      0   \n",
       "4                                      0   \n",
       "\n",
       "   PrimaryPropertyType_2015_Medical Office  \\\n",
       "0                                        0   \n",
       "1                                        0   \n",
       "2                                        0   \n",
       "3                                        0   \n",
       "4                                        0   \n",
       "\n",
       "   PrimaryPropertyType_2015_Mixed Use Property  \\\n",
       "0                                            0   \n",
       "1                                            0   \n",
       "2                                            0   \n",
       "3                                            0   \n",
       "4                                            0   \n",
       "\n",
       "   PrimaryPropertyType_2015_Non-Refrigerated Warehouse  \\\n",
       "0                                                  0     \n",
       "1                                                  0     \n",
       "2                                                  0     \n",
       "3                                                  0     \n",
       "4                                                  0     \n",
       "\n",
       "   PrimaryPropertyType_2015_Other  \\\n",
       "0                               0   \n",
       "1                               0   \n",
       "2                               0   \n",
       "3                               0   \n",
       "4                               0   \n",
       "\n",
       "   PrimaryPropertyType_2015_Refrigerated Warehouse  \\\n",
       "0                                                0   \n",
       "1                                                0   \n",
       "2                                                0   \n",
       "3                                                0   \n",
       "4                                                0   \n",
       "\n",
       "   PrimaryPropertyType_2015_Residence Hall/Dormitory  \\\n",
       "0                                                  0   \n",
       "1                                                  0   \n",
       "2                                                  0   \n",
       "3                                                  0   \n",
       "4                                                  0   \n",
       "\n",
       "   PrimaryPropertyType_2015_Retail Store  \\\n",
       "0                                      0   \n",
       "1                                      0   \n",
       "2                                      0   \n",
       "3                                      0   \n",
       "4                                      0   \n",
       "\n",
       "   PrimaryPropertyType_2015_SPS-District K-12  \\\n",
       "0                                           0   \n",
       "1                                           0   \n",
       "2                                           0   \n",
       "3                                           0   \n",
       "4                                           0   \n",
       "\n",
       "   PrimaryPropertyType_2015_Self-Storage Facility\\n  \\\n",
       "0                                                 0   \n",
       "1                                                 0   \n",
       "2                                                 0   \n",
       "3                                                 0   \n",
       "4                                                 0   \n",
       "\n",
       "   PrimaryPropertyType_2015_Senior Care Community  \\\n",
       "0                                               0   \n",
       "1                                               0   \n",
       "2                                               0   \n",
       "3                                               0   \n",
       "4                                               0   \n",
       "\n",
       "   PrimaryPropertyType_2015_Small- and Mid-Sized Office  \\\n",
       "0                                                  0      \n",
       "1                                                  0      \n",
       "2                                                  0      \n",
       "3                                                  0      \n",
       "4                                                  0      \n",
       "\n",
       "   PrimaryPropertyType_2015_Supermarket/Grocery Store  \\\n",
       "0                                                  0    \n",
       "1                                                  0    \n",
       "2                                                  0    \n",
       "3                                                  0    \n",
       "4                                                  0    \n",
       "\n",
       "   PrimaryPropertyType_2015_Worship Facility  Log_NumberofFloors_mean  \\\n",
       "0                                          0                 2.564949   \n",
       "1                                          0                 2.484907   \n",
       "2                                          0                 3.737670   \n",
       "3                                          0                 2.397895   \n",
       "4                                          0                 2.944439   \n",
       "\n",
       "   Log_LargestPropertyUseTypeGFA  Log_PropertyGFAParking_mean  \\\n",
       "0                      11.390023                     0.000000   \n",
       "1                      11.337154                     9.620129   \n",
       "2                      13.536945                    11.496389   \n",
       "3                      11.023878                     0.000000   \n",
       "4                      11.723559                    10.524897   \n",
       "\n",
       "   Consommation_predit  \n",
       "0            15.971027  \n",
       "1            15.864732  \n",
       "2            18.109060  \n",
       "3            15.896291  \n",
       "4            16.353548  "
      ]
     },
     "execution_count": 39,
     "metadata": {},
     "output_type": "execute_result"
    }
   ],
   "source": [
    "data_X.head()"
   ]
  },
  {
   "cell_type": "code",
   "execution_count": 40,
   "id": "adverse-twist",
   "metadata": {},
   "outputs": [],
   "source": [
    "data_X['ENERGYSTARScore_mean'] = data_Final['ENERGYSTARScore_mean'] \n",
    "data_X['sq_ENERGYSTARScore_mean'] = data_Final['ENERGYSTARScore_mean'] * data_Final['ENERGYSTARScore_mean']\n"
   ]
  },
  {
   "cell_type": "markdown",
   "id": "arabic-digest",
   "metadata": {},
   "source": [
    "# regression emission gaz effet serre"
   ]
  },
  {
   "cell_type": "code",
   "execution_count": 42,
   "id": "vital-canyon",
   "metadata": {},
   "outputs": [],
   "source": [
    "data_y = pd.DataFrame(np.log1p(data_Final['GHGEmissions(MetricTonsCO2e)_mean']))"
   ]
  },
  {
   "cell_type": "code",
   "execution_count": 43,
   "id": "innocent-start",
   "metadata": {},
   "outputs": [
    {
     "name": "stdout",
     "output_type": "stream",
     "text": [
      "X_train (948, 42)\n",
      "y_train (948, 1)\n",
      "X_test (168, 42)\n",
      "y_test (168, 1)\n"
     ]
    }
   ],
   "source": [
    "from sklearn.model_selection import train_test_split\n",
    "\n",
    "X_train, X_test, y_train, y_test = train_test_split(data_X, data_y, test_size=0.15)\n",
    "\n",
    "print('X_train',X_train.shape)\n",
    "print('y_train',y_train.shape)\n",
    "print('X_test',X_test.shape)\n",
    "print('y_test',y_test.shape)\n",
    "\n",
    "X_train_noEnergyscore = X_train.drop(['ENERGYSTARScore_mean','sq_ENERGYSTARScore_mean'], axis=1)\n",
    "X_test_noEnergyscore = X_test.drop(['ENERGYSTARScore_mean','sq_ENERGYSTARScore_mean'], axis=1)\n",
    "\n",
    "X_train_noPredConso = X_train.drop(['Consommation_predit'], axis=1)\n",
    "X_test_noPredConso = X_test.drop(['Consommation_predit'], axis=1)\n",
    "\n",
    "X_train_noAll = X_train_noEnergyscore.drop(['Consommation_predit'], axis=1)\n",
    "X_test_noAll = X_test_noEnergyscore.drop(['Consommation_predit'], axis=1)\n"
   ]
  },
  {
   "cell_type": "markdown",
   "id": "joined-grace",
   "metadata": {},
   "source": [
    "## premiere regression"
   ]
  },
  {
   "cell_type": "code",
   "execution_count": 44,
   "id": "moral-silence",
   "metadata": {},
   "outputs": [],
   "source": [
    "def evaluation( model, X_train, X_test, y_train, y_test):\n",
    "    model.fit(X_train, y_train)\n",
    "    \n",
    "    rsq_test = model.score(X_test, y_test)\n",
    "\n",
    "    #prédire sur le jeu de test\n",
    "    y_test_pred = model.predict(X_test)\n",
    "\n",
    "    # calculer la RMSE sur le jeu de test\n",
    "    from sklearn import metrics\n",
    "#RMSLE (Root Mean Squared Log Error)\n",
    "    rmsle = np.sqrt(metrics.mean_squared_error(y_test, y_test_pred))\n",
    "#    print(\"RMSE : {:.4f}\".format(rmse))\n",
    "        \n",
    "    return [rsq_test,rmsle]"
   ]
  },
  {
   "cell_type": "markdown",
   "id": "technical-purchase",
   "metadata": {},
   "source": [
    "# LinearRegression"
   ]
  },
  {
   "cell_type": "code",
   "execution_count": 45,
   "id": "sharp-enhancement",
   "metadata": {},
   "outputs": [
    {
     "name": "stdout",
     "output_type": "stream",
     "text": [
      "\n",
      "regression avec EnergyStarScore et avec prediction consommation\n",
      "Emission gaz effet serre R² RMSLE [0.7734170903374564, 0.652292449414033]\n",
      "\n",
      "regression sans EnergyStarScore et avec prediction consommation\n",
      "Emission gaz effet serre R² RMSLE [0.7587091229285239, 0.6731304356675637]\n",
      "\n",
      "regression avec EnergyStarScore et sans prediction consommation\n",
      "Emission gaz effet serre R² RMSLE [0.7121367894007008, 0.735227696910486]\n",
      "\n",
      "regression sans EnergyStarScore et sans prediction consommation\n",
      "Emission gaz effet serre R² RMSLE [0.6305002147062639, 0.8329824891821426]\n"
     ]
    }
   ],
   "source": [
    "from sklearn.linear_model import LinearRegression\n",
    "\n",
    "print(\"\\nregression avec EnergyStarScore et avec prediction consommation\")\n",
    "print(\"Emission gaz effet serre R² RMSLE\", evaluation(LinearRegression(), X_train, X_test, y_train, y_test))\n",
    "        \n",
    "print(\"\\nregression sans EnergyStarScore et avec prediction consommation\")\n",
    "print(\"Emission gaz effet serre R² RMSLE\", evaluation(LinearRegression(), X_train_noEnergyscore, X_test_noEnergyscore, y_train, y_test))\n",
    "        \n",
    "print(\"\\nregression avec EnergyStarScore et sans prediction consommation\")\n",
    "print(\"Emission gaz effet serre R² RMSLE\", evaluation(LinearRegression(), X_train_noPredConso, X_test_noPredConso, y_train, y_test))\n",
    "        \n",
    "print(\"\\nregression sans EnergyStarScore et sans prediction consommation\")\n",
    "print(\"Emission gaz effet serre R² RMSLE\", evaluation(LinearRegression(), X_train_noAll, X_test_noAll, y_train, y_test))\n",
    "        \n",
    "    "
   ]
  },
  {
   "cell_type": "markdown",
   "id": "conventional-inventory",
   "metadata": {},
   "source": [
    "# dummy Regression"
   ]
  },
  {
   "cell_type": "code",
   "execution_count": 47,
   "id": "raising-subdivision",
   "metadata": {},
   "outputs": [
    {
     "name": "stdout",
     "output_type": "stream",
     "text": [
      "Consommation Energie R² RMSLE [-0.0010492840528948388, 1.3710601440680696]\n"
     ]
    }
   ],
   "source": [
    "from sklearn.dummy import DummyRegressor\n",
    "\n",
    "print(\"Consommation Energie R² RMSLE\", evaluation(DummyRegressor(), X_train, X_test, y_train, y_test))\n",
    "   "
   ]
  },
  {
   "cell_type": "markdown",
   "id": "lesbian-congo",
   "metadata": {},
   "source": [
    "# Ridge Regression"
   ]
  },
  {
   "cell_type": "code",
   "execution_count": 48,
   "id": "sunset-mongolia",
   "metadata": {},
   "outputs": [
    {
     "name": "stdout",
     "output_type": "stream",
     "text": [
      "\n",
      "regression avec EnergyStarScore et avec prediction consommation\n",
      "Emission gaz effet serre R² RMSLE [0.7756739392216104, 0.6490357837045897]\n",
      "\n",
      "regression sans EnergyStarScore et avec prediction consommation\n",
      "Emission gaz effet serre R² RMSLE [0.7609155006246102, 0.6700457961803522]\n",
      "\n",
      "regression avec EnergyStarScore et sans prediction consommation\n",
      "Emission gaz effet serre R² RMSLE [0.7119232401214485, 0.7355003580757221]\n",
      "\n",
      "regression sans EnergyStarScore et sans prediction consommation\n",
      "Emission gaz effet serre R² RMSLE [0.630119495037608, 0.8334115167233095]\n"
     ]
    }
   ],
   "source": [
    "from sklearn.linear_model import Ridge\n",
    "\n",
    "print(\"\\nregression avec EnergyStarScore et avec prediction consommation\")\n",
    "print(\"Emission gaz effet serre R² RMSLE\", evaluation(Ridge(alpha=0.5), X_train, X_test, y_train, y_test))\n",
    "        \n",
    "print(\"\\nregression sans EnergyStarScore et avec prediction consommation\")\n",
    "print(\"Emission gaz effet serre R² RMSLE\", evaluation(Ridge(alpha=0.5), X_train_noEnergyscore, X_test_noEnergyscore, y_train, y_test))\n",
    "        \n",
    "print(\"\\nregression avec EnergyStarScore et sans prediction consommation\")\n",
    "print(\"Emission gaz effet serre R² RMSLE\", evaluation(Ridge(alpha=0.5), X_train_noPredConso, X_test_noPredConso, y_train, y_test))\n",
    "        \n",
    "print(\"\\nregression sans EnergyStarScore et sans prediction consommation\")\n",
    "print(\"Emission gaz effet serre R² RMSLE\", evaluation(Ridge(alpha=0.5), X_train_noAll, X_test_noAll, y_train, y_test))\n",
    "        \n"
   ]
  },
  {
   "cell_type": "markdown",
   "id": "cubic-flavor",
   "metadata": {},
   "source": [
    "### consommation energie"
   ]
  },
  {
   "cell_type": "code",
   "execution_count": 49,
   "id": "confused-excess",
   "metadata": {},
   "outputs": [
    {
     "name": "stdout",
     "output_type": "stream",
     "text": [
      "{'alpha': array([1.00000000e-02, 1.61026203e-02, 2.59294380e-02, 4.17531894e-02,\n",
      "       6.72335754e-02, 1.08263673e-01, 1.74332882e-01, 2.80721620e-01,\n",
      "       4.52035366e-01, 7.27895384e-01, 1.17210230e+00, 1.88739182e+00,\n",
      "       3.03919538e+00, 4.89390092e+00, 7.88046282e+00, 1.26896100e+01,\n",
      "       2.04335972e+01, 3.29034456e+01, 5.29831691e+01, 8.53167852e+01,\n",
      "       1.37382380e+02, 2.21221629e+02, 3.56224789e+02, 5.73615251e+02,\n",
      "       9.23670857e+02, 1.48735211e+03, 2.39502662e+03, 3.85662042e+03,\n",
      "       6.21016942e+03, 1.00000000e+04])}\n",
      "0.710995640205418 {'alpha': 1.1721022975334805}\n",
      "Consommation Energie R² RMSLE [0.7776134946702707, 0.6462238639851825]\n"
     ]
    }
   ],
   "source": [
    "from sklearn.model_selection import GridSearchCV\n",
    "\n",
    "params_grid = { 'alpha':np.logspace(-2,4,30)}\n",
    "print( params_grid)\n",
    "grid = GridSearchCV(Ridge(),params_grid, cv=5)\n",
    "grid.fit(X_train_noEnergyscore, y_train)\n",
    "#print(grid.cv_results_)\n",
    "print(grid.best_score_,grid.best_params_)\n",
    "print(\"Consommation Energie R² RMSLE\", evaluation(grid.best_estimator_, X_train, X_test, y_train, y_test))\n"
   ]
  },
  {
   "cell_type": "code",
   "execution_count": 51,
   "id": "vocal-impossible",
   "metadata": {},
   "outputs": [
    {
     "name": "stdout",
     "output_type": "stream",
     "text": [
      "{'alpha': array([1.  , 1.15, 1.3 , 1.45, 1.6 , 1.75, 1.9 , 2.05, 2.2 , 2.35, 2.5 ,\n",
      "       2.65, 2.8 , 2.95, 3.1 , 3.25, 3.4 , 3.55, 3.7 , 3.85, 4.  ])}\n",
      "0.7110335642088657 {'alpha': 1.45}\n",
      "Consommation Energie R² RMSLE [0.7781829961811911, 0.6453958879703671]\n"
     ]
    }
   ],
   "source": [
    "params_grid = { 'alpha':np.linspace(1,4,21)}\n",
    "print( params_grid)\n",
    "grid = GridSearchCV(Ridge(),params_grid, cv=5)\n",
    "grid.fit(X_train_noEnergyscore, y_train)\n",
    "#print(grid.cv_results_)\n",
    "print(grid.best_score_,grid.best_params_)\n",
    "print(\"Consommation Energie R² RMSLE\", evaluation(grid.best_estimator_, X_train, X_test, y_train, y_test))\n"
   ]
  },
  {
   "cell_type": "code",
   "execution_count": 52,
   "id": "ongoing-democrat",
   "metadata": {},
   "outputs": [
    {
     "name": "stdout",
     "output_type": "stream",
     "text": [
      "\n",
      "regression avec EnergyStarScore et avec prediction consommation\n",
      "Emission gaz effet serre R² RMSLE [0.7781829961811911, 0.6453958879703671]\n",
      "\n",
      "regression sans EnergyStarScore et avec prediction consommation\n",
      "Emission gaz effet serre R² RMSLE [0.7631167694336143, 0.6669540825166538]\n",
      "\n",
      "regression avec EnergyStarScore et sans prediction consommation\n",
      "Emission gaz effet serre R² RMSLE [0.7112614851868251, 0.7363446500530323]\n",
      "\n",
      "regression sans EnergyStarScore et sans prediction consommation\n",
      "Emission gaz effet serre R² RMSLE [0.6289928203934856, 0.8346798583235561]\n"
     ]
    }
   ],
   "source": [
    "from sklearn.linear_model import Ridge\n",
    "\n",
    "print(\"\\nregression avec EnergyStarScore et avec prediction consommation\")\n",
    "print(\"Emission gaz effet serre R² RMSLE\", evaluation(Ridge(alpha=1.45), X_train, X_test, y_train, y_test))\n",
    "        \n",
    "print(\"\\nregression sans EnergyStarScore et avec prediction consommation\")\n",
    "print(\"Emission gaz effet serre R² RMSLE\", evaluation(Ridge(alpha=1.45), X_train_noEnergyscore, X_test_noEnergyscore, y_train, y_test))\n",
    "        \n",
    "print(\"\\nregression avec EnergyStarScore et sans prediction consommation\")\n",
    "print(\"Emission gaz effet serre R² RMSLE\", evaluation(Ridge(alpha=1.45), X_train_noPredConso, X_test_noPredConso, y_train, y_test))\n",
    "        \n",
    "print(\"\\nregression sans EnergyStarScore et sans prediction consommation\")\n",
    "print(\"Emission gaz effet serre R² RMSLE\", evaluation(Ridge(alpha=1.45), X_train_noAll, X_test_noAll, y_train, y_test))\n",
    "        \n"
   ]
  },
  {
   "cell_type": "markdown",
   "id": "similar-waste",
   "metadata": {},
   "source": [
    "# LASSO"
   ]
  },
  {
   "cell_type": "code",
   "execution_count": 53,
   "id": "representative-victoria",
   "metadata": {},
   "outputs": [
    {
     "name": "stdout",
     "output_type": "stream",
     "text": [
      "\n",
      "regression avec EnergyStarScore et avec prediction consommation\n",
      "Emission gaz effet serre R² RMSLE [0.5930937965379537, 0.874129812205496]\n",
      "\n",
      "regression sans EnergyStarScore et avec prediction consommation\n",
      "Emission gaz effet serre R² RMSLE [0.5466360595732576, 0.9226824578207782]\n",
      "\n",
      "regression avec EnergyStarScore et sans prediction consommation\n",
      "Emission gaz effet serre R² RMSLE [0.33887845392318006, 1.1142161068152188]\n",
      "\n",
      "regression sans EnergyStarScore et sans prediction consommation\n",
      "Emission gaz effet serre R² RMSLE [0.24097845778514415, 1.1938666694343398]\n"
     ]
    }
   ],
   "source": [
    "from sklearn.linear_model import Lasso\n",
    "\n",
    "print(\"\\nregression avec EnergyStarScore et avec prediction consommation\")\n",
    "print(\"Emission gaz effet serre R² RMSLE\", evaluation(Lasso(alpha=0.5), X_train, X_test, y_train, y_test))\n",
    "        \n",
    "print(\"\\nregression sans EnergyStarScore et avec prediction consommation\")\n",
    "print(\"Emission gaz effet serre R² RMSLE\", evaluation(Lasso(alpha=0.5), X_train_noEnergyscore, X_test_noEnergyscore, y_train, y_test))\n",
    "        \n",
    "print(\"\\nregression avec EnergyStarScore et sans prediction consommation\")\n",
    "print(\"Emission gaz effet serre R² RMSLE\", evaluation(Lasso(alpha=0.5), X_train_noPredConso, X_test_noPredConso, y_train, y_test))\n",
    "        \n",
    "print(\"\\nregression sans EnergyStarScore et sans prediction consommation\")\n",
    "print(\"Emission gaz effet serre R² RMSLE\", evaluation(Lasso(alpha=0.5), X_train_noAll, X_test_noAll, y_train, y_test))\n",
    "        \n",
    "     "
   ]
  },
  {
   "cell_type": "markdown",
   "id": "conditional-argentina",
   "metadata": {},
   "source": [
    "### consommation energie"
   ]
  },
  {
   "cell_type": "code",
   "execution_count": 54,
   "id": "leading-browse",
   "metadata": {},
   "outputs": [
    {
     "name": "stdout",
     "output_type": "stream",
     "text": [
      "{'alpha': array([1.00000000e-04, 1.61026203e-04, 2.59294380e-04, 4.17531894e-04,\n",
      "       6.72335754e-04, 1.08263673e-03, 1.74332882e-03, 2.80721620e-03,\n",
      "       4.52035366e-03, 7.27895384e-03, 1.17210230e-02, 1.88739182e-02,\n",
      "       3.03919538e-02, 4.89390092e-02, 7.88046282e-02, 1.26896100e-01,\n",
      "       2.04335972e-01, 3.29034456e-01, 5.29831691e-01, 8.53167852e-01,\n",
      "       1.37382380e+00, 2.21221629e+00, 3.56224789e+00, 5.73615251e+00,\n",
      "       9.23670857e+00, 1.48735211e+01, 2.39502662e+01, 3.85662042e+01,\n",
      "       6.21016942e+01, 1.00000000e+02])}\n"
     ]
    },
    {
     "name": "stderr",
     "output_type": "stream",
     "text": [
      "C:\\Users\\paps\\anaconda3\\envs\\openclass\\lib\\site-packages\\sklearn\\linear_model\\_coordinate_descent.py:529: ConvergenceWarning: Objective did not converge. You might want to increase the number of iterations. Duality gap: 1.702196869839895, tolerance: 0.1416765026653277\n",
      "  model = cd_fast.enet_coordinate_descent(\n",
      "C:\\Users\\paps\\anaconda3\\envs\\openclass\\lib\\site-packages\\sklearn\\linear_model\\_coordinate_descent.py:529: ConvergenceWarning: Objective did not converge. You might want to increase the number of iterations. Duality gap: 0.68146573877317, tolerance: 0.14523671158888274\n",
      "  model = cd_fast.enet_coordinate_descent(\n",
      "C:\\Users\\paps\\anaconda3\\envs\\openclass\\lib\\site-packages\\sklearn\\linear_model\\_coordinate_descent.py:529: ConvergenceWarning: Objective did not converge. You might want to increase the number of iterations. Duality gap: 1.7583717183537146, tolerance: 0.1416765026653277\n",
      "  model = cd_fast.enet_coordinate_descent(\n",
      "C:\\Users\\paps\\anaconda3\\envs\\openclass\\lib\\site-packages\\sklearn\\linear_model\\_coordinate_descent.py:529: ConvergenceWarning: Objective did not converge. You might want to increase the number of iterations. Duality gap: 1.8292766501791107, tolerance: 0.1416765026653277\n",
      "  model = cd_fast.enet_coordinate_descent(\n"
     ]
    },
    {
     "name": "stdout",
     "output_type": "stream",
     "text": [
      "0.7122725640650754 {'alpha': 0.001082636733874054}\n",
      "Consommation Energie R² RMSLE [0.7781578583803431, 0.6454324572445841]\n"
     ]
    }
   ],
   "source": [
    "params_grid = { 'alpha':np.logspace(-4,2,30)}\n",
    "print( params_grid)\n",
    "grid = GridSearchCV(Lasso(),params_grid, cv=5)\n",
    "grid.fit(X_train_noEnergyscore, y_train)\n",
    "#print(grid.cv_results_)\n",
    "print(grid.best_score_,grid.best_params_)\n",
    "print(\"Consommation Energie R² RMSLE\", evaluation(grid.best_estimator_, X_train, X_test, y_train, y_test))\n"
   ]
  },
  {
   "cell_type": "code",
   "execution_count": 55,
   "id": "normal-affect",
   "metadata": {},
   "outputs": [
    {
     "name": "stdout",
     "output_type": "stream",
     "text": [
      "{'alpha': array([0.0005, 0.0006, 0.0007, 0.0008, 0.0009, 0.001 , 0.0011, 0.0012,\n",
      "       0.0013, 0.0014, 0.0015, 0.0016, 0.0017, 0.0018, 0.0019, 0.002 ,\n",
      "       0.0021, 0.0022, 0.0023, 0.0024, 0.0025])}\n",
      "0.7123353402853958 {'alpha': 0.0013}\n",
      "Consommation Energie R² RMSLE [0.7788083028601341, 0.6444855538385518]\n"
     ]
    }
   ],
   "source": [
    "params_grid = { 'alpha':np.linspace(0.0005,0.0025,21)}\n",
    "print( params_grid)\n",
    "grid = GridSearchCV(Lasso(),params_grid, cv=5)\n",
    "grid.fit(X_train_noEnergyscore, y_train)\n",
    "#print(grid.cv_results_)\n",
    "print(grid.best_score_,grid.best_params_)\n",
    "print(\"Consommation Energie R² RMSLE\", evaluation(grid.best_estimator_, X_train, X_test, y_train, y_test))\n"
   ]
  },
  {
   "cell_type": "code",
   "execution_count": 56,
   "id": "south-appendix",
   "metadata": {},
   "outputs": [
    {
     "name": "stdout",
     "output_type": "stream",
     "text": [
      "\n",
      "regression avec EnergyStarScore et avec prediction consommation\n",
      "Emission gaz effet serre R² RMSLE [0.7788083028601341, 0.6444855538385518]\n",
      "\n",
      "regression sans EnergyStarScore et avec prediction consommation\n",
      "Emission gaz effet serre R² RMSLE [0.7629315441143807, 0.6672147861612576]\n",
      "\n",
      "regression avec EnergyStarScore et sans prediction consommation\n",
      "Emission gaz effet serre R² RMSLE [0.7119061547477438, 0.7355221684296132]\n",
      "\n",
      "regression sans EnergyStarScore et sans prediction consommation\n",
      "Emission gaz effet serre R² RMSLE [0.6301542917280991, 0.8333723140020407]\n"
     ]
    }
   ],
   "source": [
    "from sklearn.linear_model import Lasso\n",
    "\n",
    "print(\"\\nregression avec EnergyStarScore et avec prediction consommation\")\n",
    "print(\"Emission gaz effet serre R² RMSLE\", evaluation(Lasso(alpha=0.0013), X_train, X_test, y_train, y_test))\n",
    "        \n",
    "print(\"\\nregression sans EnergyStarScore et avec prediction consommation\")\n",
    "print(\"Emission gaz effet serre R² RMSLE\", evaluation(Lasso(alpha=0.0013), X_train_noEnergyscore, X_test_noEnergyscore, y_train, y_test))\n",
    "        \n",
    "print(\"\\nregression avec EnergyStarScore et sans prediction consommation\")\n",
    "print(\"Emission gaz effet serre R² RMSLE\", evaluation(Lasso(alpha=0.0013), X_train_noPredConso, X_test_noPredConso, y_train, y_test))\n",
    "        \n",
    "print(\"\\nregression sans EnergyStarScore et sans prediction consommation\")\n",
    "print(\"Emission gaz effet serre R² RMSLE\", evaluation(Lasso(alpha=0.0013), X_train_noAll, X_test_noAll, y_train, y_test))\n",
    "        \n",
    "     "
   ]
  },
  {
   "cell_type": "markdown",
   "id": "stuck-satellite",
   "metadata": {},
   "source": [
    "# DECISION TREE"
   ]
  },
  {
   "cell_type": "code",
   "execution_count": 57,
   "id": "successful-canberra",
   "metadata": {},
   "outputs": [
    {
     "name": "stdout",
     "output_type": "stream",
     "text": [
      "\n",
      "regression avec EnergyStarScore et avec prediction consommation\n",
      "Emission gaz effet serre R² RMSLE [0.5622819664629272, 0.9066214634694112]\n",
      "\n",
      "regression sans EnergyStarScore et avec prediction consommation\n",
      "Emission gaz effet serre R² RMSLE [0.6064490702029317, 0.85966500516677]\n",
      "\n",
      "regression avec EnergyStarScore et sans prediction consommation\n",
      "Emission gaz effet serre R² RMSLE [0.41850251643130343, 1.044967290687279]\n",
      "\n",
      "regression sans EnergyStarScore et sans prediction consommation\n",
      "Emission gaz effet serre R² RMSLE [0.3698849782496464, 1.0877740479830809]\n"
     ]
    }
   ],
   "source": [
    "from sklearn.tree import DecisionTreeRegressor\n",
    "\n",
    "print(\"\\nregression avec EnergyStarScore et avec prediction consommation\")\n",
    "print(\"Emission gaz effet serre R² RMSLE\", evaluation(DecisionTreeRegressor(), X_train, X_test, y_train, y_test))\n",
    "        \n",
    "print(\"\\nregression sans EnergyStarScore et avec prediction consommation\")\n",
    "print(\"Emission gaz effet serre R² RMSLE\", evaluation(DecisionTreeRegressor(), X_train_noEnergyscore, X_test_noEnergyscore, y_train, y_test))\n",
    "        \n",
    "print(\"\\nregression avec EnergyStarScore et sans prediction consommation\")\n",
    "print(\"Emission gaz effet serre R² RMSLE\", evaluation(DecisionTreeRegressor(), X_train_noPredConso, X_test_noPredConso, y_train, y_test))\n",
    "        \n",
    "print(\"\\nregression sans EnergyStarScore et sans prediction consommation\")\n",
    "print(\"Emission gaz effet serre R² RMSLE\", evaluation(DecisionTreeRegressor(), X_train_noAll, X_test_noAll, y_train, y_test))\n",
    "        \n",
    "            "
   ]
  },
  {
   "cell_type": "code",
   "execution_count": 58,
   "id": "necessary-benchmark",
   "metadata": {},
   "outputs": [
    {
     "name": "stdout",
     "output_type": "stream",
     "text": [
      "{'criterion': ['mse', 'friedman_mse', 'mae'], 'max_depth': array([1., 2., 3., 4., 5., 6., 7.])}\n",
      "0.6462134787473883 {'criterion': 'mse', 'max_depth': 4.0}\n",
      "Consommation Energie R² RMSLE [0.7029053083550332, 0.7469236704373762]\n"
     ]
    }
   ],
   "source": [
    "params_grid = { 'criterion': ['mse', 'friedman_mse', 'mae'],\n",
    "              'max_depth' : np.linspace(1,7,7)}\n",
    "print( params_grid)\n",
    "grid = GridSearchCV(DecisionTreeRegressor(),params_grid, cv=5)\n",
    "grid.fit(X_train_noEnergyscore, y_train)\n",
    "#print(grid.cv_results_)\n",
    "print(grid.best_score_,grid.best_params_)\n",
    "print(\"Consommation Energie R² RMSLE\", evaluation(grid.best_estimator_, X_train, X_test, y_train, y_test))\n"
   ]
  },
  {
   "cell_type": "code",
   "execution_count": 59,
   "id": "christian-inventory",
   "metadata": {},
   "outputs": [
    {
     "name": "stdout",
     "output_type": "stream",
     "text": [
      "\n",
      "regression avec EnergyStarScore et avec prediction consommation\n",
      "Emission gaz effet serre R² RMSLE [0.7068665361448433, 0.7419275134072437]\n",
      "\n",
      "regression sans EnergyStarScore et avec prediction consommation\n",
      "Emission gaz effet serre R² RMSLE [0.7029053083550331, 0.7469236704373763]\n",
      "\n",
      "regression avec EnergyStarScore et sans prediction consommation\n",
      "Emission gaz effet serre R² RMSLE [0.5558154492971235, 0.9132937828267703]\n",
      "\n",
      "regression sans EnergyStarScore et sans prediction consommation\n",
      "Emission gaz effet serre R² RMSLE [0.5820504823182897, 0.8859122171303307]\n"
     ]
    }
   ],
   "source": [
    "from sklearn.tree import DecisionTreeRegressor\n",
    "\n",
    "print(\"\\nregression avec EnergyStarScore et avec prediction consommation\")\n",
    "print(\"Emission gaz effet serre R² RMSLE\", evaluation(DecisionTreeRegressor(criterion = 'mse', max_depth = 4), X_train, X_test, y_train, y_test))\n",
    "        \n",
    "print(\"\\nregression sans EnergyStarScore et avec prediction consommation\")\n",
    "print(\"Emission gaz effet serre R² RMSLE\", evaluation(DecisionTreeRegressor(criterion = 'mse', max_depth = 4), X_train_noEnergyscore, X_test_noEnergyscore, y_train, y_test))\n",
    "        \n",
    "print(\"\\nregression avec EnergyStarScore et sans prediction consommation\")\n",
    "print(\"Emission gaz effet serre R² RMSLE\", evaluation(DecisionTreeRegressor(criterion = 'mse', max_depth = 4), X_train_noPredConso, X_test_noPredConso, y_train, y_test))\n",
    "        \n",
    "print(\"\\nregression sans EnergyStarScore et sans prediction consommation\")\n",
    "print(\"Emission gaz effet serre R² RMSLE\", evaluation(DecisionTreeRegressor(criterion = 'mse', max_depth = 4), X_train_noAll, X_test_noAll, y_train, y_test))\n",
    "        \n",
    "            "
   ]
  },
  {
   "cell_type": "markdown",
   "id": "generous-making",
   "metadata": {},
   "source": [
    "# kneighbors"
   ]
  },
  {
   "cell_type": "code",
   "execution_count": 60,
   "id": "responsible-stage",
   "metadata": {},
   "outputs": [
    {
     "name": "stdout",
     "output_type": "stream",
     "text": [
      "\n",
      "regression avec EnergyStarScore et avec prediction consommation\n",
      "Emission gaz effet serre R² RMSLE [-0.12513033096548143, 1.4535507276528032]\n",
      "\n",
      "regression sans EnergyStarScore et avec prediction consommation\n",
      "Emission gaz effet serre R² RMSLE [0.36794292266922557, 1.089449053626122]\n",
      "\n",
      "regression avec EnergyStarScore et sans prediction consommation\n",
      "Emission gaz effet serre R² RMSLE [-0.1263482398995961, 1.4543372203639042]\n",
      "\n",
      "regression sans EnergyStarScore et sans prediction consommation\n",
      "Emission gaz effet serre R² RMSLE [0.14770281349869507, 1.2650983929517925]\n"
     ]
    }
   ],
   "source": [
    "from sklearn.neighbors import KNeighborsRegressor\n",
    "\n",
    "print(\"\\nregression avec EnergyStarScore et avec prediction consommation\")\n",
    "print(\"Emission gaz effet serre R² RMSLE\", evaluation(KNeighborsRegressor(n_neighbors=5), X_train, X_test, y_train, y_test))\n",
    "        \n",
    "print(\"\\nregression sans EnergyStarScore et avec prediction consommation\")\n",
    "print(\"Emission gaz effet serre R² RMSLE\", evaluation(KNeighborsRegressor(n_neighbors=5), X_train_noEnergyscore, X_test_noEnergyscore, y_train, y_test))\n",
    "        \n",
    "print(\"\\nregression avec EnergyStarScore et sans prediction consommation\")\n",
    "print(\"Emission gaz effet serre R² RMSLE\", evaluation(KNeighborsRegressor(n_neighbors=5), X_train_noPredConso, X_test_noPredConso, y_train, y_test))\n",
    "        \n",
    "print(\"\\nregression sans EnergyStarScore et sans prediction consommation\")\n",
    "print(\"Emission gaz effet serre R² RMSLE\", evaluation(KNeighborsRegressor(n_neighbors=5), X_train_noAll, X_test_noAll, y_train, y_test))\n",
    "        \n"
   ]
  },
  {
   "cell_type": "markdown",
   "id": "adjustable-mistake",
   "metadata": {},
   "source": [
    "# RandomForest"
   ]
  },
  {
   "cell_type": "code",
   "execution_count": 61,
   "id": "floppy-heather",
   "metadata": {},
   "outputs": [
    {
     "name": "stdout",
     "output_type": "stream",
     "text": [
      "\n",
      "regression avec EnergyStarScore et avec prediction consommation\n",
      "Emission gaz effet serre R² RMSLE [0.7755607739631781, 0.6491994718672603]\n",
      "\n",
      "regression sans EnergyStarScore et avec prediction consommation\n",
      "Emission gaz effet serre R² RMSLE [0.7504573769262483, 0.6845436474741605]\n",
      "\n",
      "regression avec EnergyStarScore et sans prediction consommation\n",
      "Emission gaz effet serre R² RMSLE [0.6961841236049212, 0.7553252604182386]\n",
      "\n",
      "regression sans EnergyStarScore et sans prediction consommation\n",
      "Emission gaz effet serre R² RMSLE [0.611356663702145, 0.8542881642867612]\n"
     ]
    }
   ],
   "source": [
    "from sklearn.ensemble import RandomForestRegressor\n",
    "\n",
    "print(\"\\nregression avec EnergyStarScore et avec prediction consommation\")\n",
    "print(\"Emission gaz effet serre R² RMSLE\", evaluation(RandomForestRegressor(), X_train, X_test, \\\n",
    "                                                  y_train.values.ravel(), y_test.values.ravel()))\n",
    "\n",
    "print(\"\\nregression sans EnergyStarScore et avec prediction consommation\")\n",
    "print(\"Emission gaz effet serre R² RMSLE\", evaluation(RandomForestRegressor(), X_train_noEnergyscore, X_test_noEnergyscore, \\\n",
    "                                                  y_train.values.ravel(), y_test.values.ravel()))\n",
    "\n",
    "print(\"\\nregression avec EnergyStarScore et sans prediction consommation\")\n",
    "print(\"Emission gaz effet serre R² RMSLE\", evaluation(RandomForestRegressor(), X_train_noPredConso, X_test_noPredConso,  \\\n",
    "                                                  y_train.values.ravel(), y_test.values.ravel()))\n",
    "\n",
    "print(\"\\nregression sans EnergyStarScore et sans prediction consommation\")\n",
    "print(\"Emission gaz effet serre R² RMSLE\", evaluation(RandomForestRegressor(), X_train_noAll, X_test_noAll,  \\\n",
    "                                                  y_train.values.ravel(), y_test.values.ravel()))            \n",
    "        "
   ]
  },
  {
   "cell_type": "markdown",
   "id": "complicated-lodge",
   "metadata": {},
   "source": [
    "### consommation energie"
   ]
  },
  {
   "cell_type": "code",
   "execution_count": 62,
   "id": "simplified-booth",
   "metadata": {},
   "outputs": [
    {
     "name": "stdout",
     "output_type": "stream",
     "text": [
      "{'n_estimators': [200, 400, 600, 800, 1000, 1200, 1400, 1600, 1800, 2000], 'max_features': ['auto', 'sqrt'], 'max_depth': [10, 20, 30, 40, 50, 60, 70, 80, 90, 100, 110, None], 'min_samples_split': [2, 5, 10], 'min_samples_leaf': [1, 2, 4], 'bootstrap': [True, False]}\n",
      "Fitting 3 folds for each of 100 candidates, totalling 300 fits\n"
     ]
    },
    {
     "name": "stderr",
     "output_type": "stream",
     "text": [
      "[Parallel(n_jobs=-1)]: Using backend LokyBackend with 4 concurrent workers.\n",
      "[Parallel(n_jobs=-1)]: Done  33 tasks      | elapsed:   30.9s\n",
      "[Parallel(n_jobs=-1)]: Done 154 tasks      | elapsed:  1.8min\n",
      "[Parallel(n_jobs=-1)]: Done 300 out of 300 | elapsed:  3.4min finished\n"
     ]
    },
    {
     "name": "stdout",
     "output_type": "stream",
     "text": [
      "{'n_estimators': 400, 'min_samples_split': 10, 'min_samples_leaf': 2, 'max_features': 'auto', 'max_depth': 70, 'bootstrap': True}\n"
     ]
    }
   ],
   "source": [
    "from sklearn.model_selection import RandomizedSearchCV\n",
    "n_estimators = [int(x) for x in np.linspace(start = 200, stop = 2000, num = 10)]\n",
    "# Number of features to consider at every split\n",
    "max_features = ['auto', 'sqrt']\n",
    "# Maximum number of levels in tree\n",
    "max_depth = [int(x) for x in np.linspace(10, 110, num = 11)]\n",
    "max_depth.append(None)\n",
    "# Minimum number of samples required to split a node\n",
    "min_samples_split = [2, 5, 10]\n",
    "# Minimum number of samples required at each leaf node\n",
    "min_samples_leaf = [1, 2, 4]\n",
    "# Method of selecting samples for training each tree\n",
    "bootstrap = [True, False]\n",
    "# Create the random grid\n",
    "random_grid = {'n_estimators': n_estimators,\n",
    "               'max_features': max_features,\n",
    "               'max_depth': max_depth,\n",
    "               'min_samples_split': min_samples_split,\n",
    "               'min_samples_leaf': min_samples_leaf,\n",
    "               'bootstrap': bootstrap}\n",
    "print(random_grid)\n",
    "\n",
    "rf = RandomForestRegressor()\n",
    "# Random search of parameters, using 3 fold cross validation, \n",
    "# search across 100 different combinations, and use all available cores\n",
    "rf_random = RandomizedSearchCV(estimator = rf, param_distributions = random_grid, n_iter = 100, cv = 3, verbose=2, n_jobs = -1)\n",
    "# Fit the random search model\n",
    "rf_random.fit(X_train_noEnergyscore, y_train.values.ravel())\n",
    "\n",
    "print(rf_random.best_params_)"
   ]
  },
  {
   "cell_type": "code",
   "execution_count": 63,
   "id": "consolidated-rogers",
   "metadata": {},
   "outputs": [
    {
     "name": "stdout",
     "output_type": "stream",
     "text": [
      "\n",
      "regression avec EnergyStarScore et avec prediction consommation\n",
      "Emission gaz effet serre R² RMSLE [0.7739695592588616, 0.6514967335217695]\n",
      "\n",
      "regression sans EnergyStarScore et avec prediction consommation\n",
      "Emission gaz effet serre R² RMSLE [0.7492843929904313, 0.6861506221047918]\n",
      "\n",
      "regression avec EnergyStarScore et sans prediction consommation\n",
      "Emission gaz effet serre R² RMSLE [0.7008397919708664, 0.7495156232698198]\n",
      "\n",
      "regression sans EnergyStarScore et sans prediction consommation\n",
      "Emission gaz effet serre R² RMSLE [0.6064842237092045, 0.8596266099912778]\n"
     ]
    }
   ],
   "source": [
    "from sklearn.ensemble import RandomForestRegressor\n",
    "\n",
    "rfr = RandomForestRegressor( n_estimators = 400, min_samples_split = 10, min_samples_leaf = 2, max_features = 'auto',\\\n",
    "                            max_depth = 70, bootstrap = True)\n",
    "\n",
    "print(\"\\nregression avec EnergyStarScore et avec prediction consommation\")\n",
    "print(\"Emission gaz effet serre R² RMSLE\", evaluation(rfr, X_train, X_test, \\\n",
    "                                                  y_train.values.ravel(), y_test.values.ravel()))\n",
    "\n",
    "print(\"\\nregression sans EnergyStarScore et avec prediction consommation\")\n",
    "print(\"Emission gaz effet serre R² RMSLE\", evaluation(rfr, X_train_noEnergyscore, X_test_noEnergyscore, \\\n",
    "                                                  y_train.values.ravel(), y_test.values.ravel()))\n",
    "\n",
    "print(\"\\nregression avec EnergyStarScore et sans prediction consommation\")\n",
    "print(\"Emission gaz effet serre R² RMSLE\", evaluation(rfr, X_train_noPredConso, X_test_noPredConso,  \\\n",
    "                                                  y_train.values.ravel(), y_test.values.ravel()))\n",
    "\n",
    "print(\"\\nregression sans EnergyStarScore et sans prediction consommation\")\n",
    "print(\"Emission gaz effet serre R² RMSLE\", evaluation(rfr, X_train_noAll, X_test_noAll,  \\\n",
    "                                                  y_train.values.ravel(), y_test.values.ravel()))            \n",
    "        "
   ]
  },
  {
   "cell_type": "code",
   "execution_count": 64,
   "id": "continent-relaxation",
   "metadata": {},
   "outputs": [
    {
     "name": "stdout",
     "output_type": "stream",
     "text": [
      "{'bootstrap': [True], 'max_depth': [60, 70, 80], 'max_features': ['auto'], 'min_samples_leaf': [1, 2, 3], 'min_samples_split': [8, 10, 12], 'n_estimators': [350, 400, 450]}\n",
      "resultat en 423.56s\n",
      "0.6917471755940726 {'bootstrap': True, 'max_depth': 70, 'max_features': 'auto', 'min_samples_leaf': 3, 'min_samples_split': 12, 'n_estimators': 450}\n",
      "Consommation Energie R² RMSLE [0.7751060628590721, 0.6498567741760714]\n"
     ]
    }
   ],
   "source": [
    "from sklearn.model_selection import GridSearchCV\n",
    "import timeit\n",
    "\n",
    "start_time = timeit.default_timer()\n",
    "\n",
    "# Create the parameter grid based on the results of random search \n",
    "params_grid = {\n",
    "    'bootstrap': [True],\n",
    "    'max_depth': [60, 70, 80 ],\n",
    "    'max_features': ['auto'],\n",
    "    'min_samples_leaf': [1,2, 3],\n",
    "    'min_samples_split': [ 8, 10, 12],\n",
    "    'n_estimators': [350, 400, 450]\n",
    "}             \n",
    "print( params_grid)\n",
    "grid = GridSearchCV(RandomForestRegressor(),params_grid, cv=5)\n",
    "grid.fit(X_train_noEnergyscore, y_train.values.ravel())\n",
    "#print(grid.cv_results_)\n",
    "\n",
    "elapsed = timeit.default_timer() - start_time\n",
    "time = elapsed\n",
    "print(f'resultat en {time:.2f}s')\n",
    "print(grid.best_score_,grid.best_params_)\n",
    "print(\"Consommation Energie R² RMSLE\", evaluation(grid.best_estimator_, X_train, X_test,\\\n",
    "                                                  y_train.values.ravel(), y_test.values.ravel()))\n"
   ]
  },
  {
   "cell_type": "code",
   "execution_count": 65,
   "id": "alien-livestock",
   "metadata": {},
   "outputs": [
    {
     "name": "stdout",
     "output_type": "stream",
     "text": [
      "\n",
      "regression avec EnergyStarScore et avec prediction consommation\n",
      "Emission gaz effet serre R² RMSLE [0.7767230358355357, 0.6475163454515614]\n",
      "\n",
      "regression sans EnergyStarScore et avec prediction consommation\n",
      "Emission gaz effet serre R² RMSLE [0.747014413419613, 0.6892498273618557]\n",
      "\n",
      "regression avec EnergyStarScore et sans prediction consommation\n",
      "Emission gaz effet serre R² RMSLE [0.7029089378296309, 0.7469191080051885]\n",
      "\n",
      "regression sans EnergyStarScore et sans prediction consommation\n",
      "Emission gaz effet serre R² RMSLE [0.6120790706514535, 0.8534938231760939]\n"
     ]
    }
   ],
   "source": [
    "from sklearn.ensemble import RandomForestRegressor\n",
    "\n",
    "rfr = RandomForestRegressor( n_estimators = 450, min_samples_split = 12, min_samples_leaf = 2, max_features = 'auto',\\\n",
    "                            max_depth = 70, bootstrap = True)\n",
    "\n",
    "print(\"\\nregression avec EnergyStarScore et avec prediction consommation\")\n",
    "print(\"Emission gaz effet serre R² RMSLE\", evaluation(rfr, X_train, X_test, \\\n",
    "                                                  y_train.values.ravel(), y_test.values.ravel()))\n",
    "\n",
    "print(\"\\nregression sans EnergyStarScore et avec prediction consommation\")\n",
    "print(\"Emission gaz effet serre R² RMSLE\", evaluation(rfr, X_train_noEnergyscore, X_test_noEnergyscore, \\\n",
    "                                                  y_train.values.ravel(), y_test.values.ravel()))\n",
    "\n",
    "print(\"\\nregression avec EnergyStarScore et sans prediction consommation\")\n",
    "print(\"Emission gaz effet serre R² RMSLE\", evaluation(rfr, X_train_noPredConso, X_test_noPredConso,  \\\n",
    "                                                  y_train.values.ravel(), y_test.values.ravel()))\n",
    "\n",
    "print(\"\\nregression sans EnergyStarScore et sans prediction consommation\")\n",
    "print(\"Emission gaz effet serre R² RMSLE\", evaluation(rfr, X_train_noAll, X_test_noAll,  \\\n",
    "                                                  y_train.values.ravel(), y_test.values.ravel()))            \n",
    "        "
   ]
  },
  {
   "cell_type": "markdown",
   "id": "sapphire-timeline",
   "metadata": {},
   "source": [
    "# AdaBoost"
   ]
  },
  {
   "cell_type": "code",
   "execution_count": 66,
   "id": "quick-ghost",
   "metadata": {},
   "outputs": [
    {
     "name": "stdout",
     "output_type": "stream",
     "text": [
      "\n",
      "regression avec EnergyStarScore et avec prediction consommation\n",
      "Emission gaz effet serre R² RMSLE [0.6893274111801371, 0.7638010390642955]\n",
      "\n",
      "regression sans EnergyStarScore et avec prediction consommation\n",
      "Emission gaz effet serre R² RMSLE [0.6654840211842084, 0.7925692350219523]\n",
      "\n",
      "regression avec EnergyStarScore et sans prediction consommation\n",
      "Emission gaz effet serre R² RMSLE [0.5605487244129493, 0.9084146748797912]\n",
      "\n",
      "regression sans EnergyStarScore et sans prediction consommation\n",
      "Emission gaz effet serre R² RMSLE [0.5312354060119402, 0.9382232210416248]\n"
     ]
    }
   ],
   "source": [
    "from sklearn.ensemble import AdaBoostRegressor\n",
    "\n",
    "ada = AdaBoostRegressor()\n",
    "\n",
    "print(\"\\nregression avec EnergyStarScore et avec prediction consommation\")\n",
    "print(\"Emission gaz effet serre R² RMSLE\", evaluation(ada, X_train, X_test, \\\n",
    "                                                  y_train.values.ravel(), y_test.values.ravel()))\n",
    "\n",
    "print(\"\\nregression sans EnergyStarScore et avec prediction consommation\")\n",
    "print(\"Emission gaz effet serre R² RMSLE\", evaluation(ada, X_train_noEnergyscore, X_test_noEnergyscore, \\\n",
    "                                                  y_train.values.ravel(), y_test.values.ravel()))\n",
    "\n",
    "print(\"\\nregression avec EnergyStarScore et sans prediction consommation\")\n",
    "print(\"Emission gaz effet serre R² RMSLE\", evaluation(ada, X_train_noPredConso, X_test_noPredConso,  \\\n",
    "                                                  y_train.values.ravel(), y_test.values.ravel()))\n",
    "\n",
    "print(\"\\nregression sans EnergyStarScore et sans prediction consommation\")\n",
    "print(\"Emission gaz effet serre R² RMSLE\", evaluation(ada, X_train_noAll, X_test_noAll,  \\\n",
    "                                                  y_train.values.ravel(), y_test.values.ravel()))            \n",
    "\n",
    "        "
   ]
  },
  {
   "cell_type": "markdown",
   "id": "attempted-championship",
   "metadata": {},
   "source": [
    "### consommation energie"
   ]
  },
  {
   "cell_type": "code",
   "execution_count": 67,
   "id": "specialized-ambassador",
   "metadata": {},
   "outputs": [
    {
     "name": "stdout",
     "output_type": "stream",
     "text": [
      "{'n_estimators': [200, 400, 600, 800, 1000, 1200, 1400, 1600, 1800, 2000], 'learning_rate': [0.01, 0.05, 0.1, 0.3, 1], 'loss': ['linear', 'square', 'exponential']}\n",
      "Fitting 3 folds for each of 100 candidates, totalling 300 fits\n"
     ]
    },
    {
     "name": "stderr",
     "output_type": "stream",
     "text": [
      "[Parallel(n_jobs=-1)]: Using backend LokyBackend with 4 concurrent workers.\n",
      "[Parallel(n_jobs=-1)]: Done  33 tasks      | elapsed:   16.9s\n",
      "[Parallel(n_jobs=-1)]: Done 154 tasks      | elapsed:  1.4min\n"
     ]
    },
    {
     "name": "stdout",
     "output_type": "stream",
     "text": [
      "{'n_estimators': 600, 'loss': 'linear', 'learning_rate': 1}\n"
     ]
    },
    {
     "name": "stderr",
     "output_type": "stream",
     "text": [
      "[Parallel(n_jobs=-1)]: Done 300 out of 300 | elapsed:  2.4min finished\n"
     ]
    }
   ],
   "source": [
    "from sklearn.model_selection import RandomizedSearchCV\n",
    "\n",
    "# Create the random grid\n",
    "random_grid = {'n_estimators': [int(x) for x in np.linspace(start = 200, stop = 2000, num = 10)],\n",
    "               'learning_rate': [0.01,0.05,0.1,0.3,1],\n",
    "               'loss': ['linear', 'square', 'exponential']}\n",
    "print(random_grid)\n",
    "\n",
    "rf = AdaBoostRegressor()\n",
    "# Random search of parameters, using 3 fold cross validation, \n",
    "# search across 100 different combinations, and use all available cores\n",
    "rf_random = RandomizedSearchCV(estimator = rf, param_distributions = random_grid, n_iter = 100, cv = 3, verbose=2, n_jobs = -1)\n",
    "# Fit the random search model\n",
    "rf_random.fit(X_train_noEnergyscore, y_train.values.ravel())\n",
    "\n",
    "print(rf_random.best_params_)"
   ]
  },
  {
   "cell_type": "code",
   "execution_count": 69,
   "id": "equal-serum",
   "metadata": {},
   "outputs": [
    {
     "name": "stdout",
     "output_type": "stream",
     "text": [
      "{'n_estimators': [550, 600, 750], 'learning_rate': [0.8, 1, 1.2, 2], 'loss': ['linear']}\n",
      "resultat en 10.91s\n",
      "0.6519742040842967 {'learning_rate': 1, 'loss': 'linear', 'n_estimators': 600}\n",
      "Consommation Energie R² RMSLE [0.6840323916287842, 0.7702825476095292]\n"
     ]
    }
   ],
   "source": [
    "from sklearn.model_selection import GridSearchCV\n",
    "import timeit\n",
    "\n",
    "start_time = timeit.default_timer()\n",
    "\n",
    "# Create the parameter grid based on the results of random search \n",
    "params_grid = {'n_estimators': [550, 600, 750],\n",
    "               'learning_rate': [0.8, 1, 1.2, 2],\n",
    "               'loss': ['linear']}\n",
    "\n",
    "print( params_grid)\n",
    "grid = GridSearchCV(AdaBoostRegressor(),params_grid, cv=5)\n",
    "grid.fit(X_train_noEnergyscore, y_train.values.ravel())\n",
    "\n",
    "elapsed = timeit.default_timer() - start_time\n",
    "time = elapsed\n",
    "print(f'resultat en {time:.2f}s')\n",
    "print(grid.best_score_,grid.best_params_)\n",
    "print(\"Consommation Energie R² RMSLE\", evaluation(grid.best_estimator_, X_train, X_test,\\\n",
    "                                                  y_train.values.ravel(), y_test.values.ravel()))\n"
   ]
  },
  {
   "cell_type": "code",
   "execution_count": 70,
   "id": "isolated-lloyd",
   "metadata": {},
   "outputs": [
    {
     "name": "stdout",
     "output_type": "stream",
     "text": [
      "\n",
      "regression avec EnergyStarScore et avec prediction consommation\n",
      "Emission gaz effet serre R² RMSLE [0.6950631854993756, 0.7567173755332122]\n",
      "\n",
      "regression sans EnergyStarScore et avec prediction consommation\n",
      "Emission gaz effet serre R² RMSLE [0.6573445049114292, 0.8021537665586869]\n",
      "\n",
      "regression avec EnergyStarScore et sans prediction consommation\n",
      "Emission gaz effet serre R² RMSLE [0.5632280208671172, 0.9056411780857013]\n",
      "\n",
      "regression sans EnergyStarScore et sans prediction consommation\n",
      "Emission gaz effet serre R² RMSLE [0.5108436430030818, 0.9584128493070001]\n"
     ]
    }
   ],
   "source": [
    "from sklearn.ensemble import AdaBoostRegressor\n",
    "\n",
    "ada = AdaBoostRegressor( learning_rate = 1, loss = 'linear', n_estimators = 600)\n",
    "\n",
    "print(\"\\nregression avec EnergyStarScore et avec prediction consommation\")\n",
    "print(\"Emission gaz effet serre R² RMSLE\", evaluation(ada, X_train, X_test, \\\n",
    "                                                  y_train.values.ravel(), y_test.values.ravel()))\n",
    "\n",
    "print(\"\\nregression sans EnergyStarScore et avec prediction consommation\")\n",
    "print(\"Emission gaz effet serre R² RMSLE\", evaluation(ada, X_train_noEnergyscore, X_test_noEnergyscore, \\\n",
    "                                                  y_train.values.ravel(), y_test.values.ravel()))\n",
    "\n",
    "print(\"\\nregression avec EnergyStarScore et sans prediction consommation\")\n",
    "print(\"Emission gaz effet serre R² RMSLE\", evaluation(ada, X_train_noPredConso, X_test_noPredConso,  \\\n",
    "                                                  y_train.values.ravel(), y_test.values.ravel()))\n",
    "\n",
    "print(\"\\nregression sans EnergyStarScore et sans prediction consommation\")\n",
    "print(\"Emission gaz effet serre R² RMSLE\", evaluation(ada, X_train_noAll, X_test_noAll,  \\\n",
    "                                                  y_train.values.ravel(), y_test.values.ravel()))            \n",
    "\n",
    "        "
   ]
  },
  {
   "cell_type": "markdown",
   "id": "persistent-toronto",
   "metadata": {},
   "source": [
    "# GradientBoost"
   ]
  },
  {
   "cell_type": "code",
   "execution_count": 71,
   "id": "vocational-gauge",
   "metadata": {},
   "outputs": [
    {
     "name": "stdout",
     "output_type": "stream",
     "text": [
      "\n",
      "regression avec EnergyStarScore et avec prediction consommation\n",
      "Emission gaz effet serre R² RMSLE [0.6860739767581698, 0.7677899726139733]\n",
      "\n",
      "regression sans EnergyStarScore et avec prediction consommation\n",
      "Emission gaz effet serre R² RMSLE [0.6646187799595706, 0.7935935817670912]\n",
      "\n",
      "regression avec EnergyStarScore et sans prediction consommation\n",
      "Emission gaz effet serre R² RMSLE [0.5785108050537027, 0.8896557695049125]\n",
      "\n",
      "regression sans EnergyStarScore et sans prediction consommation\n",
      "Emission gaz effet serre R² RMSLE [0.5548401484851155, 0.9142958975478813]\n"
     ]
    }
   ],
   "source": [
    "from sklearn.ensemble import GradientBoostingRegressor\n",
    "\n",
    "gbr = GradientBoostingRegressor()\n",
    "\n",
    "print(\"\\nregression avec EnergyStarScore et avec prediction consommation\")\n",
    "print(\"Emission gaz effet serre R² RMSLE\", evaluation(ada, X_train, X_test, \\\n",
    "                                                  y_train.values.ravel(), y_test.values.ravel()))\n",
    "\n",
    "print(\"\\nregression sans EnergyStarScore et avec prediction consommation\")\n",
    "print(\"Emission gaz effet serre R² RMSLE\", evaluation(ada, X_train_noEnergyscore, X_test_noEnergyscore, \\\n",
    "                                                  y_train.values.ravel(), y_test.values.ravel()))\n",
    "\n",
    "print(\"\\nregression avec EnergyStarScore et sans prediction consommation\")\n",
    "print(\"Emission gaz effet serre R² RMSLE\", evaluation(ada, X_train_noPredConso, X_test_noPredConso,  \\\n",
    "                                                  y_train.values.ravel(), y_test.values.ravel()))\n",
    "\n",
    "print(\"\\nregression sans EnergyStarScore et sans prediction consommation\")\n",
    "print(\"Emission gaz effet serre R² RMSLE\", evaluation(ada, X_train_noAll, X_test_noAll,  \\\n",
    "                                                  y_train.values.ravel(), y_test.values.ravel()))            \n",
    "\n",
    "        "
   ]
  },
  {
   "cell_type": "markdown",
   "id": "immediate-valve",
   "metadata": {},
   "source": [
    "### consommation energie"
   ]
  },
  {
   "cell_type": "code",
   "execution_count": 72,
   "id": "received-contact",
   "metadata": {},
   "outputs": [
    {
     "name": "stdout",
     "output_type": "stream",
     "text": [
      "{'n_estimators': [200, 400, 600, 800, 1000, 1200, 1400, 1600, 1800, 2000], 'learning_rate': [0.01, 0.05, 0.1, 0.3, 1], 'criterion': ['friedman_mse', 'mse', 'mae'], 'max_depth': [2, 3, 5, 10, 15], 'min_samples_leaf': [1, 2, 4, 6, 8], 'min_samples_split': [2, 4, 6, 10], 'max_features': ['auto', 'sqrt', 'log2', None], 'loss': ['ls', 'lad', 'huber', 'quantile']}\n",
      "Fitting 3 folds for each of 100 candidates, totalling 300 fits\n"
     ]
    },
    {
     "name": "stderr",
     "output_type": "stream",
     "text": [
      "[Parallel(n_jobs=-1)]: Using backend LokyBackend with 4 concurrent workers.\n",
      "[Parallel(n_jobs=-1)]: Done  33 tasks      | elapsed:   35.4s\n",
      "[Parallel(n_jobs=-1)]: Done 154 tasks      | elapsed:  5.5min\n",
      "[Parallel(n_jobs=-1)]: Done 300 out of 300 | elapsed: 13.7min finished\n"
     ]
    },
    {
     "name": "stdout",
     "output_type": "stream",
     "text": [
      "{'n_estimators': 1400, 'min_samples_split': 10, 'min_samples_leaf': 2, 'max_features': 'auto', 'max_depth': 2, 'loss': 'huber', 'learning_rate': 0.01, 'criterion': 'friedman_mse'}\n"
     ]
    }
   ],
   "source": [
    "# Create the random grid\n",
    "random_grid = {'n_estimators': [int(x) for x in np.linspace(start = 200, stop = 2000, num = 10)],\n",
    "               'learning_rate': [0.01,0.05,0.1,0.3,1],\n",
    "               'criterion' : ['friedman_mse', 'mse', 'mae'],\n",
    "               'max_depth' : [2, 3, 5, 10, 15],\n",
    "               'min_samples_leaf' : [1, 2, 4, 6, 8] ,\n",
    "               'min_samples_split' : [2, 4, 6, 10],\n",
    "               'max_features' : ['auto', 'sqrt', 'log2', None],\n",
    "               'loss': ['ls','lad','huber', 'quantile']}\n",
    "print(random_grid)\n",
    "\n",
    "# Random search of parameters, using 3 fold cross validation, \n",
    "# search across 100 different combinations, and use all available cores\n",
    "rf_random = RandomizedSearchCV(estimator = GradientBoostingRegressor(), param_distributions = random_grid, n_iter = 100, cv = 3, verbose=2, n_jobs = -1)\n",
    "# Fit the random search model\n",
    "rf_random.fit(X_train_noEnergyscore, y_train.values.ravel())\n",
    "\n",
    "print(rf_random.best_params_)"
   ]
  },
  {
   "cell_type": "code",
   "execution_count": 73,
   "id": "steady-melissa",
   "metadata": {},
   "outputs": [
    {
     "name": "stdout",
     "output_type": "stream",
     "text": [
      "\n",
      "regression avec EnergyStarScore et avec prediction consommation\n",
      "Emission gaz effet serre R² RMSLE [0.6845586909185537, 0.7696407601232192]\n",
      "\n",
      "regression sans EnergyStarScore et avec prediction consommation\n",
      "Emission gaz effet serre R² RMSLE [0.664701683385452, 0.7934954908647961]\n",
      "\n",
      "regression avec EnergyStarScore et sans prediction consommation\n",
      "Emission gaz effet serre R² RMSLE [0.5668651217755662, 0.9018625538913281]\n",
      "\n",
      "regression sans EnergyStarScore et sans prediction consommation\n",
      "Emission gaz effet serre R² RMSLE [0.48096318221873524, 0.9872516299317006]\n"
     ]
    }
   ],
   "source": [
    "from sklearn.ensemble import GradientBoostingRegressor\n",
    "\n",
    "gbr = GradientBoostingRegressor( n_estimators = 1400, min_samples_split = 10, min_samples_leaf = 2, criterion = 'friedman_mse', \\\n",
    "                                max_features = 'auto', max_depth = 2, loss = 'huber', learning_rate = 0.01)\n",
    "\n",
    "print(\"\\nregression avec EnergyStarScore et avec prediction consommation\")\n",
    "print(\"Emission gaz effet serre R² RMSLE\", evaluation(ada, X_train, X_test, \\\n",
    "                                                  y_train.values.ravel(), y_test.values.ravel()))\n",
    "\n",
    "print(\"\\nregression sans EnergyStarScore et avec prediction consommation\")\n",
    "print(\"Emission gaz effet serre R² RMSLE\", evaluation(ada, X_train_noEnergyscore, X_test_noEnergyscore, \\\n",
    "                                                  y_train.values.ravel(), y_test.values.ravel()))\n",
    "\n",
    "print(\"\\nregression avec EnergyStarScore et sans prediction consommation\")\n",
    "print(\"Emission gaz effet serre R² RMSLE\", evaluation(ada, X_train_noPredConso, X_test_noPredConso,  \\\n",
    "                                                  y_train.values.ravel(), y_test.values.ravel()))\n",
    "\n",
    "print(\"\\nregression sans EnergyStarScore et sans prediction consommation\")\n",
    "print(\"Emission gaz effet serre R² RMSLE\", evaluation(ada, X_train_noAll, X_test_noAll,  \\\n",
    "                                                  y_train.values.ravel(), y_test.values.ravel()))            \n",
    "\n",
    "        "
   ]
  },
  {
   "cell_type": "markdown",
   "id": "minor-bahamas",
   "metadata": {},
   "source": [
    "# XGBOOST"
   ]
  },
  {
   "cell_type": "code",
   "execution_count": 74,
   "id": "thousand-argentina",
   "metadata": {},
   "outputs": [
    {
     "name": "stdout",
     "output_type": "stream",
     "text": [
      "\n",
      "regression avec EnergyStarScore et avec prediction consommation\n",
      "Emission gaz effet serre R² RMSLE [0.7510560439854684, 0.6837220246703547]\n",
      "\n",
      "regression sans EnergyStarScore et avec prediction consommation\n",
      "Emission gaz effet serre R² RMSLE [0.7361108834745922, 0.7039462767246117]\n",
      "\n",
      "regression avec EnergyStarScore et sans prediction consommation\n",
      "Emission gaz effet serre R² RMSLE [0.6608364428354845, 0.7980560005925607]\n",
      "\n",
      "regression sans EnergyStarScore et sans prediction consommation\n",
      "Emission gaz effet serre R² RMSLE [0.5525555729113611, 0.9166389940807858]\n"
     ]
    }
   ],
   "source": [
    "from xgboost import XGBRegressor\n",
    "xgbr = XGBRegressor()\n",
    "\n",
    "print(\"\\nregression avec EnergyStarScore et avec prediction consommation\")\n",
    "print(\"Emission gaz effet serre R² RMSLE\", evaluation(xgbr, X_train, X_test, \\\n",
    "                                                  y_train.values.ravel(), y_test.values.ravel()))\n",
    "\n",
    "print(\"\\nregression sans EnergyStarScore et avec prediction consommation\")\n",
    "print(\"Emission gaz effet serre R² RMSLE\", evaluation(xgbr, X_train_noEnergyscore, X_test_noEnergyscore, \\\n",
    "                                                  y_train.values.ravel(), y_test.values.ravel()))\n",
    "\n",
    "print(\"\\nregression avec EnergyStarScore et sans prediction consommation\")\n",
    "print(\"Emission gaz effet serre R² RMSLE\", evaluation(xgbr, X_train_noPredConso, X_test_noPredConso,  \\\n",
    "                                                  y_train.values.ravel(), y_test.values.ravel()))\n",
    "\n",
    "print(\"\\nregression sans EnergyStarScore et sans prediction consommation\")\n",
    "print(\"Emission gaz effet serre R² RMSLE\", evaluation(xgbr, X_train_noAll, X_test_noAll,  \\\n",
    "                                                  y_train.values.ravel(), y_test.values.ravel()))            \n",
    "\n",
    "\n"
   ]
  },
  {
   "cell_type": "code",
   "execution_count": 76,
   "id": "compound-belief",
   "metadata": {},
   "outputs": [
    {
     "name": "stdout",
     "output_type": "stream",
     "text": [
      "{'n_estimators': [200, 400, 600, 800, 1000, 1200, 1400, 1600, 1800, 2000], 'learning_rate': [0.01, 0.05, 0.1, 0.3, 1], 'gamma': [0, 1, 10], 'min_child_weight': [1, 3, 5], 'max_depth': [2, 5, 10], 'colsample_bytree': [0.8, 0.9, 1.0], 'subsample': [0.7, 0.8, 0.9, 1.0], 'reg_lambda': [1.1, 1.2, 1.3]}\n",
      "Fitting 3 folds for each of 100 candidates, totalling 300 fits\n"
     ]
    },
    {
     "name": "stderr",
     "output_type": "stream",
     "text": [
      "[Parallel(n_jobs=-1)]: Using backend LokyBackend with 4 concurrent workers.\n",
      "[Parallel(n_jobs=-1)]: Done  33 tasks      | elapsed:   17.8s\n",
      "[Parallel(n_jobs=-1)]: Done 154 tasks      | elapsed:  1.3min\n",
      "[Parallel(n_jobs=-1)]: Done 300 out of 300 | elapsed:  2.7min finished\n"
     ]
    },
    {
     "name": "stdout",
     "output_type": "stream",
     "text": [
      "{'subsample': 0.7, 'reg_lambda': 1.3, 'n_estimators': 200, 'min_child_weight': 1, 'max_depth': 5, 'learning_rate': 0.05, 'gamma': 1, 'colsample_bytree': 0.9}\n"
     ]
    }
   ],
   "source": [
    "# Create the random grid\n",
    "random_grid = {'n_estimators': [int(x) for x in np.linspace(start = 200, stop = 2000, num = 10)],\n",
    "               'learning_rate': [0.01,0.05,0.1,0.3,1],\n",
    "               'gamma': [0, 1, 10],\n",
    "               'min_child_weight': [1, 3, 5],\n",
    "               'max_depth' : [2, 5, 10],\n",
    "               'colsample_bytree': [0.8, 0.9, 1.0],\n",
    "                'subsample': [0.7, 0.8, 0.9, 1.0],\n",
    "                'reg_lambda': [1.1, 1.2, 1.3]\n",
    "              }\n",
    "print(random_grid)\n",
    "\n",
    "# Random search of parameters, using 3 fold cross validation, \n",
    "# search across 100 different combinations, and use all available cores\n",
    "rf_random = RandomizedSearchCV(estimator = XGBRegressor(), param_distributions = random_grid, n_iter = 100, cv = 3, verbose=2, n_jobs = -1)\n",
    "# Fit the random search model\n",
    "rf_random.fit(X_train_noEnergyscore, y_train.values.ravel())\n",
    "\n",
    "print(rf_random.best_params_)"
   ]
  },
  {
   "cell_type": "code",
   "execution_count": 77,
   "id": "sound-symphony",
   "metadata": {},
   "outputs": [
    {
     "name": "stdout",
     "output_type": "stream",
     "text": [
      "{'n_estimators': [150, 200, 250], 'learning_rate': [0.03, 0.05, 0.07], 'gamma': [0.8, 1, 1.2], 'min_child_weight': [1, 2, 3], 'max_depth': [4, 5, 6], 'colsample_bytree': [0.85, 0.9, 0.95], 'subsample': [0.65, 0.7, 0.75], 'reg_lambda': [1.2, 1.3, 1.4]}\n",
      "resultat en 5200.06s\n",
      "0.691930206593781 {'colsample_bytree': 0.95, 'gamma': 1.2, 'learning_rate': 0.03, 'max_depth': 5, 'min_child_weight': 3, 'n_estimators': 200, 'reg_lambda': 1.4, 'subsample': 0.65}\n",
      "Consommation Energie R² RMSLE [0.7862745450197116, 0.6335149992389003]\n"
     ]
    }
   ],
   "source": [
    "from sklearn.model_selection import GridSearchCV\n",
    "import timeit\n",
    "\n",
    "start_time = timeit.default_timer()\n",
    "\n",
    "# Create the parameter grid based on the results of random search \n",
    "params_grid = {'n_estimators': [ 150, 200, 250],\n",
    "               'learning_rate': [0.03,0.05,0.07],\n",
    "               'gamma': [0.8, 1, 1.2],\n",
    "               'min_child_weight': [1, 2, 3],\n",
    "               'max_depth' : [4, 5, 6],\n",
    "               'colsample_bytree': [0.85, 0.9, 0.95],\n",
    "                'subsample': [0.65, 0.7, 0.75],\n",
    "                'reg_lambda': [1.2, 1.3, 1.4]\n",
    "              }\n",
    "\n",
    "print( params_grid)\n",
    "grid = GridSearchCV(XGBRegressor(),params_grid, cv=5)\n",
    "grid.fit(X_train_noEnergyscore, y_train.values.ravel())\n",
    "\n",
    "elapsed = timeit.default_timer() - start_time\n",
    "time = elapsed\n",
    "print(f'resultat en {time:.2f}s')\n",
    "print(grid.best_score_,grid.best_params_)\n",
    "print(\"Consommation Energie R² RMSLE\", evaluation(grid.best_estimator_, X_train, X_test,\\\n",
    "                                                  y_train.values.ravel(), y_test.values.ravel()))\n"
   ]
  },
  {
   "cell_type": "code",
   "execution_count": 78,
   "id": "bored-wireless",
   "metadata": {},
   "outputs": [
    {
     "name": "stdout",
     "output_type": "stream",
     "text": [
      "\n",
      "regression avec EnergyStarScore et avec prediction consommation\n",
      "Emission gaz effet serre R² RMSLE [0.7085530656473578, 0.7397901122066375]\n",
      "\n",
      "regression sans EnergyStarScore et avec prediction consommation\n",
      "Emission gaz effet serre R² RMSLE [0.6846329133363454, 0.7695502076858707]\n",
      "\n",
      "regression avec EnergyStarScore et sans prediction consommation\n",
      "Emission gaz effet serre R² RMSLE [0.5777868783379588, 0.8904194536989268]\n",
      "\n",
      "regression sans EnergyStarScore et sans prediction consommation\n",
      "Emission gaz effet serre R² RMSLE [0.5099696619938299, 0.9592686705576932]\n"
     ]
    }
   ],
   "source": [
    "\n",
    "xgbr = XGBRegressor(subsample = 0.65, reg_lambda = 1.4, gamma = 1.2, \\\n",
    "                    n_estimators = 200, max_depth = 5, min_child_weight = 3,\\\n",
    "                    learning_rate = 0.03,  colsample_bytree = 0.95)\n",
    "\n",
    "print(\"\\nregression avec EnergyStarScore et avec prediction consommation\")\n",
    "print(\"Emission gaz effet serre R² RMSLE\", evaluation(ada, X_train, X_test, \\\n",
    "                                                  y_train.values.ravel(), y_test.values.ravel()))\n",
    "\n",
    "print(\"\\nregression sans EnergyStarScore et avec prediction consommation\")\n",
    "print(\"Emission gaz effet serre R² RMSLE\", evaluation(ada, X_train_noEnergyscore, X_test_noEnergyscore, \\\n",
    "                                                  y_train.values.ravel(), y_test.values.ravel()))\n",
    "\n",
    "print(\"\\nregression avec EnergyStarScore et sans prediction consommation\")\n",
    "print(\"Emission gaz effet serre R² RMSLE\", evaluation(ada, X_train_noPredConso, X_test_noPredConso,  \\\n",
    "                                                  y_train.values.ravel(), y_test.values.ravel()))\n",
    "\n",
    "print(\"\\nregression sans EnergyStarScore et sans prediction consommation\")\n",
    "print(\"Emission gaz effet serre R² RMSLE\", evaluation(ada, X_train_noAll, X_test_noAll,  \\\n",
    "                                                  y_train.values.ravel(), y_test.values.ravel()))            \n",
    "\n",
    "        "
   ]
  },
  {
   "cell_type": "markdown",
   "id": "imposed-mercury",
   "metadata": {},
   "source": [
    "# comparaison modeles"
   ]
  },
  {
   "cell_type": "markdown",
   "id": "stainless-sewing",
   "metadata": {},
   "source": [
    "## Consommation Energie"
   ]
  },
  {
   "cell_type": "code",
   "execution_count": null,
   "id": "finished-problem",
   "metadata": {},
   "outputs": [],
   "source": []
  },
  {
   "cell_type": "code",
   "execution_count": 104,
   "id": "spoken-compact",
   "metadata": {},
   "outputs": [
    {
     "name": "stdout",
     "output_type": "stream",
     "text": [
      "0.7734170903374564\n",
      "0.7587091229285239\n",
      "0.7121367894007008\n",
      "0.6305002147062639\n"
     ]
    },
    {
     "data": {
      "image/png": "[encoded data removed]",
      "text/plain": [
       "<Figure size 576x576 with 1 Axes>"
      ]
     },
     "metadata": {},
     "output_type": "display_data"
    },
    {
     "name": "stdout",
     "output_type": "stream",
     "text": [
      "0.7781829961811911\n",
      "0.7631167694336143\n",
      "0.7112614851868251\n",
      "0.6289928203934856\n"
     ]
    },
    {
     "data": {
      "image/png": "[encoded data removed]",
      "text/plain": [
       "<Figure size 576x576 with 1 Axes>"
      ]
     },
     "metadata": {},
     "output_type": "display_data"
    },
    {
     "name": "stdout",
     "output_type": "stream",
     "text": [
      "0.7788083028601341\n",
      "0.7629315441143807\n",
      "0.7119061547477438\n",
      "0.6301542917280991\n"
     ]
    },
    {
     "data": {
      "image/png": "[encoded data removed]",
      "text/plain": [
       "<Figure size 576x576 with 1 Axes>"
      ]
     },
     "metadata": {},
     "output_type": "display_data"
    },
    {
     "name": "stdout",
     "output_type": "stream",
     "text": [
      "0.7765978579482924\n",
      "0.7487026491751858\n",
      "0.7019916722124844\n",
      "0.6145236366621591\n"
     ]
    },
    {
     "data": {
      "image/png": "[encoded data removed]",
      "text/plain": [
       "<Figure size 576x576 with 1 Axes>"
      ]
     },
     "metadata": {},
     "output_type": "display_data"
    },
    {
     "name": "stdout",
     "output_type": "stream",
     "text": [
      "0.7862745450197116\n",
      "0.7547017753613914\n",
      "0.7028338078845928\n",
      "0.6268149790838939\n"
     ]
    },
    {
     "data": {
      "image/png": "[encoded data removed]",
      "text/plain": [
       "<Figure size 576x576 with 1 Axes>"
      ]
     },
     "metadata": {},
     "output_type": "display_data"
    }
   ],
   "source": [
    "modeles = {\n",
    "    'LinearRegression': LinearRegression(),\n",
    "    'Ridge' : Ridge(alpha=1.45),\n",
    "    'Lasso' : Lasso(alpha=0.0013),\n",
    "    'RandomForestRegressor' : RandomForestRegressor( n_estimators = 450, min_samples_split = 12, min_samples_leaf = 2, max_features = 'auto',\\\n",
    "                            max_depth = 70, bootstrap = True),\n",
    "    'XGBregressor' : XGBRegressor(subsample = 0.65, reg_lambda = 1.4, gamma = 1.2, \\\n",
    "                    n_estimators = 200, max_depth = 5, min_child_weight = 3,\\\n",
    "                    learning_rate = 0.03,  colsample_bytree = 0.95)\n",
    "} \n",
    "\n",
    "for nom, model in modeles.items():\n",
    "    res_train = evaluation(model, X_train, X_test, y_train.values.ravel(), y_test.values.ravel())\n",
    "    res_train_noEnergyscore = evaluation(model, X_train_noEnergyscore, X_test_noEnergyscore, y_train.values.ravel(), y_test.values.ravel())\n",
    "    res_train_noPredConso = evaluation(model, X_train_noPredConso, X_test_noPredConso, y_train.values.ravel(), y_test.values.ravel())\n",
    "    res_train_noAll = evaluation(model, X_train_noAll, X_test_noAll, y_train.values.ravel(), y_test.values.ravel())\n",
    "    print(res_train[0])\n",
    "    print(res_train_noEnergyscore[0])\n",
    "    print(res_train_noPredConso[0])\n",
    "    print(res_train_noAll[0])\n",
    "    plt.rcParams[\"figure.figsize\"]=[8,8]\n",
    "    plt.title(nom+\" 1/RMSLE\")\n",
    "    tabl_grap_x=['EnergyStar, prediction', 'prediction', 'EnergyStar', 'None']\n",
    "#    tabl_grap_y = [res_train[0],res_train_noEnergyscore[0],res_train_noPredConso[0],res_train_noAll[0]]\n",
    "    tabl_grap_y = [1/res_train[1],1/res_train_noEnergyscore[1],1/res_train_noPredConso[1],1/res_train_noAll[1]]\n",
    "    sns.barplot(x = tabl_grap_x,y = tabl_grap_y, palette=\"muted\")\n",
    "    plt.savefig('P4_02_04_feature_'+nom+'.jpg')\n",
    "    plt.show()"
   ]
  },
  {
   "cell_type": "code",
   "execution_count": 82,
   "id": "broad-blocking",
   "metadata": {},
   "outputs": [
    {
     "name": "stdout",
     "output_type": "stream",
     "text": [
      "resultat en 0.01s pour LinearRegression\n",
      "resultat en 0.00s pour DummyRegressor\n",
      "resultat en 0.01s pour Ridge\n",
      "resultat en 0.01s pour Lasso\n",
      "resultat en 0.01s pour DecisionTreeRegressor\n",
      "resultat en 0.01s pour KNeighborsRegressor\n",
      "resultat en 1.37s pour RandomForestRegressor\n",
      "resultat en 0.09s pour AdaBoostRegressor\n",
      "resultat en 2.46s pour GradientBoostingRegressor\n",
      "resultat en 0.17s pour XGBregressor\n"
     ]
    }
   ],
   "source": [
    "modeles = {\n",
    "    'LinearRegression': LinearRegression(),\n",
    "    'DummyRegressor' : DummyRegressor(),\n",
    "    'Ridge' : Ridge(alpha=1.45),\n",
    "    'Lasso' : Lasso(alpha=0.0013),\n",
    "    'DecisionTreeRegressor' : DecisionTreeRegressor(criterion = 'mse', max_depth = 4),\n",
    "    'KNeighborsRegressor' : KNeighborsRegressor(n_neighbors=5),\n",
    "    'RandomForestRegressor' : RandomForestRegressor( n_estimators = 450, min_samples_split = 12, min_samples_leaf = 2, max_features = 'auto',\\\n",
    "                            max_depth = 70, bootstrap = True),\n",
    "    'AdaBoostRegressor' : AdaBoostRegressor( learning_rate = 1, loss = 'linear', n_estimators = 600),\n",
    "    'GradientBoostingRegressor' : GradientBoostingRegressor( n_estimators = 1400, min_samples_split = 10, min_samples_leaf = 2, criterion = 'friedman_mse', \\\n",
    "                                max_features = 'auto', max_depth = 2, loss = 'huber', learning_rate = 0.01),\n",
    "    'XGBregressor' : XGBRegressor(subsample = 0.65, reg_lambda = 1.4, gamma = 1.2, \\\n",
    "                    n_estimators = 200, max_depth = 5, min_child_weight = 3,\\\n",
    "                    learning_rate = 0.03,  colsample_bytree = 0.95)\n",
    "} \n",
    "\n",
    "dico_res={}\n",
    "for nom, model in modeles.items():\n",
    "    start_time = timeit.default_timer()\n",
    "    dico_res[nom] = evaluation(model, X_train_noEnergyscore, X_test_noEnergyscore, y_train.values.ravel(), y_test.values.ravel())\n",
    "    elapsed = timeit.default_timer() - start_time\n",
    "    time = elapsed\n",
    "    print(f'resultat en {time:.2f}s pour {nom}')\n",
    "\n",
    "\n",
    "list_sort = sorted(dico_res.items(), key=lambda item: item[1][1])\n"
   ]
  },
  {
   "cell_type": "code",
   "execution_count": 83,
   "id": "accomplished-stanley",
   "metadata": {},
   "outputs": [
    {
     "name": "stdout",
     "output_type": "stream",
     "text": [
      "Ridge 0.7631167694336143 0.6669540825166538\n",
      "Lasso 0.7629315441143807 0.6672147861612576\n",
      "LinearRegression 0.7587091229285239 0.6731304356675637\n",
      "GradientBoostingRegressor 0.7549572621049838 0.6783435420210854\n",
      "XGBregressor 0.7547017753613914 0.6786970775594575\n",
      "RandomForestRegressor 0.7476689313853049 0.6883576449953698\n",
      "DecisionTreeRegressor 0.7029053083550332 0.7469236704373763\n",
      "AdaBoostRegressor 0.6758956909112641 0.7801375448618746\n",
      "KNeighborsRegressor 0.36794292266922557 1.089449053626122\n",
      "DummyRegressor -0.0010492840528948388 1.3710601440680696\n"
     ]
    },
    {
     "data": {
      "image/png": "[encoded data removed]",
      "text/plain": [
       "<Figure size 720x720 with 1 Axes>"
      ]
     },
     "metadata": {
      "needs_background": "light"
     },
     "output_type": "display_data"
    }
   ],
   "source": [
    "tabl_grap_x=[]\n",
    "tabl_grap_y=[]\n",
    "for li in list_sort:\n",
    "    tabl_grap_x.append(li[0])\n",
    "    tabl_grap_y.append(1/li[1][1])\n",
    "    print(li[0],li[1][0],li[1][1])\n",
    "plt.rcParams[\"figure.figsize\"]=[10,10]\n",
    "plt.title(\"classement type regression (1/RMSLE) pour emission gaz\")\n",
    "#plt.bar(tabl_grap_x,tabl_grap_y)\n",
    "plt.xticks(rotation=90)\n",
    "sns.barplot(x = tabl_grap_x,y = tabl_grap_y, palette=\"muted\")\n",
    "plt.tight_layout()\n",
    "plt.savefig('P4_02_01_resultat_model_gaz.jpg')\n",
    "plt.show()\n"
   ]
  },
  {
   "cell_type": "markdown",
   "id": "approved-gilbert",
   "metadata": {},
   "source": [
    "## feature importance"
   ]
  },
  {
   "cell_type": "code",
   "execution_count": 88,
   "id": "buried-assumption",
   "metadata": {},
   "outputs": [
    {
     "data": {
      "text/plain": [
       "XGBRegressor(base_score=0.5, booster='gbtree', colsample_bylevel=1,\n",
       "             colsample_bynode=1, colsample_bytree=0.95, gamma=1.2, gpu_id=-1,\n",
       "             importance_type='gain', interaction_constraints='',\n",
       "             learning_rate=0.03, max_delta_step=0, max_depth=5,\n",
       "             min_child_weight=3, missing=nan, monotone_constraints='()',\n",
       "             n_estimators=200, n_jobs=4, num_parallel_tree=1, random_state=0,\n",
       "             reg_alpha=0, reg_lambda=1.4, scale_pos_weight=1, subsample=0.65,\n",
       "             tree_method='exact', validate_parameters=1, verbosity=None)"
      ]
     },
     "execution_count": 88,
     "metadata": {},
     "output_type": "execute_result"
    }
   ],
   "source": [
    "xgbr = XGBRegressor(subsample = 0.65, reg_lambda = 1.4, gamma = 1.2, \\\n",
    "                    n_estimators = 200, max_depth = 5, min_child_weight = 3,\\\n",
    "                    learning_rate = 0.03,  colsample_bytree = 0.95)\n",
    "xgbr.fit(X_train_noEnergyscore, y_train.values.ravel())\n",
    "    "
   ]
  },
  {
   "cell_type": "code",
   "execution_count": 89,
   "id": "removable-coordinate",
   "metadata": {},
   "outputs": [
    {
     "data": {
      "text/plain": [
       "array([0.02350686, 0.03115519, 0.04349023, 0.03777326, 0.02028763,\n",
       "       0.0166721 , 0.01807235, 0.02783599, 0.02163727, 0.02060973,\n",
       "       0.0182186 , 0.01727371, 0.01457986, 0.0237246 , 0.01759592,\n",
       "       0.01869257, 0.02811206, 0.        , 0.01622307, 0.05761338,\n",
       "       0.02449867, 0.02525407, 0.02064862, 0.02346915, 0.02743404,\n",
       "       0.02346861, 0.01629783, 0.01271975, 0.01415665, 0.01840769,\n",
       "       0.        , 0.        , 0.        , 0.04994844, 0.01559507,\n",
       "       0.        , 0.02035789, 0.0246115 , 0.02313846, 0.1869192 ],\n",
       "      dtype=float32)"
      ]
     },
     "execution_count": 89,
     "metadata": {},
     "output_type": "execute_result"
    }
   ],
   "source": [
    "xgbr.feature_importances_"
   ]
  },
  {
   "cell_type": "code",
   "execution_count": 90,
   "id": "functional-evanescence",
   "metadata": {},
   "outputs": [
    {
     "data": {
      "text/plain": [
       "Text(0.5, 122.5, 'Relative Importance')"
      ]
     },
     "execution_count": 90,
     "metadata": {},
     "output_type": "execute_result"
    },
    {
     "data": {
      "image/png": "[encoded data removed]",
      "text/plain": [
       "<Figure size 576x1152 with 1 Axes>"
      ]
     },
     "metadata": {
      "needs_background": "light"
     },
     "output_type": "display_data"
    }
   ],
   "source": [
    "liste_variables=X_train.columns\n",
    "importances = xgbr.feature_importances_\n",
    "indices = np.argsort(importances)\n",
    "\n",
    "# style du graphique \n",
    "plt.figure(figsize=(8,16))\n",
    "plt.style.use('fivethirtyeight')\n",
    "plt.title('Feature Importances')\n",
    "plt.barh(range(len(indices)), importances[indices], color='b', align='center')\n",
    "plt.yticks(range(len(indices)), [liste_variables[i] for i in indices])\n",
    "plt.savefig('P4_02_02_feature_importance.jpg')\n",
    "plt.xlabel('Relative Importance')"
   ]
  }
 ],
 "metadata": {
  "kernelspec": {
   "display_name": "Python 3",
   "language": "python",
   "name": "python3"
  },
  "language_info": {
   "codemirror_mode": {
    "name": "ipython",
    "version": 3
   },
   "file_extension": ".py",
   "mimetype": "text/x-python",
   "name": "python",
   "nbconvert_exporter": "python",
   "pygments_lexer": "ipython3",
   "version": "3.8.8"
  }
 },
 "nbformat": 4,
 "nbformat_minor": 5
}
